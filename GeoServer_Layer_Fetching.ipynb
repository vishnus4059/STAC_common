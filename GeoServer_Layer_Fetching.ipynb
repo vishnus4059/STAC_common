{
 "cells": [
  {
   "cell_type": "code",
   "execution_count": 1,
   "metadata": {},
   "outputs": [],
   "source": [
    "!pip install owslib geopandas requests matplotlib folium --quiet"
   ]
  },
  {
   "cell_type": "code",
   "execution_count": 2,
   "metadata": {},
   "outputs": [
    {
     "name": "stderr",
     "output_type": "stream",
     "text": [
      "/home/vishnu/.local/lib/python3.10/site-packages/matplotlib/projections/__init__.py:63: UserWarning: Unable to import Axes3D. This may be due to multiple versions of Matplotlib being installed (e.g. as a system package and as a pip package). As a result, the 3D projection is not available.\n",
      "  warnings.warn(\"Unable to import Axes3D. This may be due to multiple versions of \"\n"
     ]
    }
   ],
   "source": [
    "from owslib.wms import WebMapService\n",
    "from owslib.wfs import WebFeatureService\n",
    "import geopandas as gpd\n",
    "import requests\n",
    "import matplotlib.pyplot as plt\n",
    "from PIL import Image\n",
    "from io import BytesIO\n",
    "import folium\n",
    "from IPython.display import Image, display\n",
    "import geopandas as gpd\n",
    "import requests\n"
   ]
  },
  {
   "cell_type": "markdown",
   "id": "e589ffec",
   "metadata": {},
   "source": [
    "### Fetching geoserver URL for vector layer "
   ]
  },
  {
   "cell_type": "code",
   "execution_count": 3,
   "id": "7c2c9b89",
   "metadata": {},
   "outputs": [],
   "source": [
    "GEOSERVER_URL = \"https://geoserver.core-stack.org:8443/geoserver\" "
   ]
  },
  {
   "cell_type": "code",
   "execution_count": 4,
   "metadata": {},
   "outputs": [],
   "source": [
    "def get_vector_url(workspace, layer_name):\n",
    "    \n",
    "    geojson_url = (\n",
    "        f\"{GEOSERVER_URL}/{workspace}/ows?\"\n",
    "        f\"service=WFS&version=1.0.0&request=GetFeature&\"\n",
    "        f\"typeName={workspace}:{layer_name}&outputFormat=application/json\"\n",
    "    )\n",
    "    print(\"GeoJSON URL:\", geojson_url)\n",
    "    return geojson_url\n"
   ]
  },
  {
   "cell_type": "code",
   "execution_count": 5,
   "id": "bbd80d3a",
   "metadata": {},
   "outputs": [
    {
     "name": "stdout",
     "output_type": "stream",
     "text": [
      "GeoJSON URL: https://geoserver.core-stack.org:8443/geoserver/cropping_drought/ows?service=WFS&version=1.0.0&request=GetFeature&typeName=cropping_drought:jaunpur_badlapur_drought&outputFormat=application/json\n"
     ]
    }
   ],
   "source": [
    "\n",
    "workspace = \"cropping_drought\"\n",
    "layer_name = \"jaunpur_badlapur_drought\"\n",
    "\n",
    "geojson_url = get_vector_url(workspace, layer_name)"
   ]
  },
  {
   "cell_type": "markdown",
   "id": "0a0c2f5e",
   "metadata": {},
   "source": [
    "### fetching geoserver link for raster  "
   ]
  },
  {
   "cell_type": "code",
   "execution_count": 6,
   "id": "bcd87565",
   "metadata": {},
   "outputs": [],
   "source": [
    "import geopandas as gpd\n",
    "\n",
    "GEOSERVER_URL = \"https://geoserver.core-stack.org:8443/geoserver\"\n"
   ]
  },
  {
   "cell_type": "code",
   "execution_count": 14,
   "id": "2b40fc30",
   "metadata": {},
   "outputs": [],
   "source": [
    "def get_raster_url(workspace, layer_name, output_format=\"geotiff\"):\n",
    "    wcs_url = (\n",
    "        f\"{GEOSERVER_URL}/{workspace}/wcs?\"\n",
    "        f\"service=WCS&version=2.0.1&request=GetCoverage&\"\n",
    "        f\"CoverageId={workspace}:{layer_name}&\"\n",
    "        f\"format={output_format}\"\n",
    "    )\n",
    "    print(\"Raster URL:\",wcs_url)\n",
    "    return wcs_url\n",
    "\n",
    "    "
   ]
  },
  {
   "cell_type": "code",
   "execution_count": 20,
   "metadata": {},
   "outputs": [
    {
     "name": "stdout",
     "output_type": "stream",
     "text": [
      "Raster URL: https://geoserver.core-stack.org:8443/geoserver/restoration/wcs?service=WCS&version=2.0.1&request=GetCoverage&CoverageId=restoration:restoration_jaunpur_badlapur_raster&format=geotiff\n"
     ]
    }
   ],
   "source": [
    "## LULC \n",
    "# workspace = \"LULC_level_1\"\n",
    "# layer_name = \"LULC_23_24_badlapur_level_1\"\n",
    "\n",
    "##terrain\n",
    "# workspace = \"terrain\"\n",
    "# layer_name = \"jaunpur_badlapur_terrain_raster\"\n",
    "\n",
    "##clart\n",
    "# workspace = \"clart\"\n",
    "# layer_name = \"jaunpur_badlapur_clart\"\n",
    "\n",
    "##tree health ccd\n",
    "# workspace = \"ccd\"\n",
    "# layer_name = \"tree_health_ccd_raster_jaunpur_badlapur_2022\"\n",
    "\n",
    "\n",
    "workspace = \"restoration\"\n",
    "layer_name = \"restoration_jaunpur_badlapur_raster\"\n",
    "\n",
    "raster_url = get_raster_url(workspace, layer_name)\n"
   ]
  },
  {
   "cell_type": "markdown",
   "id": "6d70c082",
   "metadata": {},
   "source": [
    "## To get the geoserver URL if we pass state,district & block information  "
   ]
  },
  {
   "cell_type": "code",
   "execution_count": 7,
   "id": "536853f0",
   "metadata": {},
   "outputs": [],
   "source": [
    "import pandas as pd\n"
   ]
  },
  {
   "cell_type": "code",
   "execution_count": 23,
   "id": "2e187e15",
   "metadata": {},
   "outputs": [
    {
     "name": "stdout",
     "output_type": "stream",
     "text": [
      "                   name layer_type             workspace  \\\n",
      "0        admin_boundary     vector  panchayat_boundaries   \n",
      "1        aquifer_vector     vector               aquifer   \n",
      "2        drainage_lines     vector              drainage   \n",
      "3  change_Afforestation     raster      change_detection   \n",
      "\n",
      "                                layer_name  \\\n",
      "0                       [district]_[block]   \n",
      "1        aquifer_vector_[district]_[block]   \n",
      "2                       [district]_[block]   \n",
      "3  change_[district]_[block]_Afforestation   \n",
      "\n",
      "                                       geoserver_url  \\\n",
      "0  https://geoserver.core-stack.org:8443/geoserve...   \n",
      "1  https://geoserver.core-stack.org:8443/geoserve...   \n",
      "2  https://geoserver.core-stack.org:8443/geoserve...   \n",
      "3  https://geoserver.core-stack.org:8443/geoserve...   \n",
      "\n",
      "                                          github_url  \n",
      "0  https://raw.githubusercontent.com/core-stack-o...  \n",
      "1  https://raw.githubusercontent.com/core-stack-o...  \n",
      "2  https://raw.githubusercontent.com/core-stack-o...  \n",
      "3  https://raw.githubusercontent.com/core-stack-o...  \n"
     ]
    }
   ],
   "source": [
    "df = pd.read_csv('/home/vishnu/Desktop/geoserver_links.csv') ## Used sheet is updated in spreadsheet (short descriptions for all layers) at tab(geoserver_links)\n",
    "print(df)"
   ]
  },
  {
   "cell_type": "code",
   "execution_count": 39,
   "id": "23fa0152",
   "metadata": {},
   "outputs": [
    {
     "data": {
      "text/html": [
       "<div>\n",
       "<style scoped>\n",
       "    .dataframe tbody tr th:only-of-type {\n",
       "        vertical-align: middle;\n",
       "    }\n",
       "\n",
       "    .dataframe tbody tr th {\n",
       "        vertical-align: top;\n",
       "    }\n",
       "\n",
       "    .dataframe thead th {\n",
       "        text-align: right;\n",
       "    }\n",
       "</style>\n",
       "<table border=\"1\" class=\"dataframe\">\n",
       "  <thead>\n",
       "    <tr style=\"text-align: right;\">\n",
       "      <th></th>\n",
       "      <th>block</th>\n",
       "      <th>district</th>\n",
       "      <th>state</th>\n",
       "    </tr>\n",
       "  </thead>\n",
       "  <tbody>\n",
       "    <tr>\n",
       "      <th>0</th>\n",
       "      <td>gobindpur</td>\n",
       "      <td>saraikela-kharsawan</td>\n",
       "      <td>jharkhand</td>\n",
       "    </tr>\n",
       "    <tr>\n",
       "      <th>1</th>\n",
       "      <td>mirzapur</td>\n",
       "      <td>mirzapur</td>\n",
       "      <td>uttar_pradesh</td>\n",
       "    </tr>\n",
       "    <tr>\n",
       "      <th>2</th>\n",
       "      <td>koraput</td>\n",
       "      <td>koraput</td>\n",
       "      <td>odisha</td>\n",
       "    </tr>\n",
       "    <tr>\n",
       "      <th>3</th>\n",
       "      <td>badlapur</td>\n",
       "      <td>jaunpur</td>\n",
       "      <td>uttar_pradesh</td>\n",
       "    </tr>\n",
       "  </tbody>\n",
       "</table>\n",
       "</div>"
      ],
      "text/plain": [
       "       block             district          state\n",
       "0  gobindpur  saraikela-kharsawan      jharkhand\n",
       "1   mirzapur             mirzapur  uttar_pradesh\n",
       "2    koraput              koraput         odisha\n",
       "3   badlapur              jaunpur  uttar_pradesh"
      ]
     },
     "execution_count": 39,
     "metadata": {},
     "output_type": "execute_result"
    }
   ],
   "source": [
    "block_district_state_df = pd.DataFrame({\n",
    "    'block' : ['gobindpur','mirzapur','koraput','badlapur'],\n",
    "    'district' : ['saraikela-kharsawan','mirzapur','koraput','jaunpur'],\n",
    "    'state' : ['jharkhand','uttar_pradesh','odisha','uttar_pradesh']\n",
    "})\n",
    "\n",
    "block_district_state_df\n"
   ]
  },
  {
   "cell_type": "code",
   "execution_count": 62,
   "id": "a37cba39",
   "metadata": {},
   "outputs": [],
   "source": [
    "state= 'uttar_pradesh'\n",
    "district='jaunpur'\n",
    "block= 'badlapur'\n",
    "name=['admin_boundary','change_Afforestation','aquifer_vector','drainage_lines']"
   ]
  },
  {
   "cell_type": "code",
   "execution_count": 63,
   "id": "eb2105d5",
   "metadata": {},
   "outputs": [
    {
     "name": "stdout",
     "output_type": "stream",
     "text": [
      "                   name layer_type             workspace  \\\n",
      "0        admin_boundary     vector  panchayat_boundaries   \n",
      "1        aquifer_vector     vector               aquifer   \n",
      "2        drainage_lines     vector              drainage   \n",
      "3  change_Afforestation     raster      change_detection   \n",
      "\n",
      "                                layer_name  \\\n",
      "0                       [district]_[block]   \n",
      "1        aquifer_vector_[district]_[block]   \n",
      "2                       [district]_[block]   \n",
      "3  change_[district]_[block]_Afforestation   \n",
      "\n",
      "                                       geoserver_url  \\\n",
      "0  https://geoserver.core-stack.org:8443/geoserve...   \n",
      "1  https://geoserver.core-stack.org:8443/geoserve...   \n",
      "2  https://geoserver.core-stack.org:8443/geoserve...   \n",
      "3  https://geoserver.core-stack.org:8443/geoserve...   \n",
      "\n",
      "                                          github_url  \n",
      "0  https://raw.githubusercontent.com/core-stack-o...  \n",
      "1  https://raw.githubusercontent.com/core-stack-o...  \n",
      "2  https://raw.githubusercontent.com/core-stack-o...  \n",
      "3  https://raw.githubusercontent.com/core-stack-o...  \n"
     ]
    }
   ],
   "source": [
    "selected_row = df[df['name'].isin(name)]\n",
    "print(selected_row)"
   ]
  },
  {
   "cell_type": "code",
   "execution_count": 64,
   "id": "4f7a94e6",
   "metadata": {},
   "outputs": [
    {
     "name": "stdout",
     "output_type": "stream",
     "text": [
      "Generated URL for jaunpur_badlapur ---\n",
      "https://geoserver.core-stack.org:8443/geoserver/panchayat_boundaries/ows?service=WFS&version=1.0.0&request=GetFeature&typeName=panchayat_boundaries%3Ajaunpur_badlapur&outputFormat=application%2Fjson\n",
      "Generated URL for aquifer_vector_jaunpur_badlapur ---\n",
      "https://geoserver.core-stack.org:8443/geoserver/aquifer/ows?service=WFS&version=1.0.0&request=GetFeature&typeName=aquifer%3Aaquifer_vector_jaunpur_badlapur&outputFormat=application%2Fjson\n",
      "Generated URL for jaunpur_badlapur ---\n",
      "https://geoserver.core-stack.org:8443/geoserver/drainage/ows?service=WFS&version=1.0.0&request=GetFeature&typeName=drainage%3Ajaunpur_badlapur&outputFormat=application%2Fjson\n",
      "Generated URL for change_jaunpur_badlapur_Afforestation ---\n",
      "https://geoserver.core-stack.org:8443/geoserver/change_detection/wcs?service=WCS&version=2.0.1&request=GetCoverage&CoverageId=change_detection:change_jaunpur_badlapur_Afforestation&format=geotiff\n"
     ]
    }
   ],
   "source": [
    "for index, row in selected_row.iterrows():\n",
    "    workspace = row['workspace']\n",
    "    temp_layer_name = row['layer_name']\n",
    "    geoserver_url = row['geoserver_url']\n",
    "    \n",
    "    final_layer_name = temp_layer_name.replace('[district]', district).replace('[block]', block)\n",
    "\n",
    "    final_url = geoserver_url.replace('[workspace]', workspace).replace('[layer_name]', final_layer_name)\n",
    "    \n",
    "    print(\"Generated URL for\",final_layer_name, \"---\")\n",
    "    print(final_url) "
   ]
  }
 ],
 "metadata": {
  "kernelspec": {
   "display_name": "Python 3",
   "language": "python",
   "name": "python3"
  },
  "language_info": {
   "codemirror_mode": {
    "name": "ipython",
    "version": 3
   },
   "file_extension": ".py",
   "mimetype": "text/x-python",
   "name": "python",
   "nbconvert_exporter": "python",
   "pygments_lexer": "ipython3",
   "version": "3.10.12"
  }
 },
 "nbformat": 4,
 "nbformat_minor": 5
}
