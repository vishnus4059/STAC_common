{
 "cells": [
  {
   "cell_type": "code",
   "execution_count": 21,
   "id": "42d93c44",
   "metadata": {},
   "outputs": [],
   "source": [
    "## To get the geoserver URL if we pass state,district & block information  "
   ]
  },
  {
   "cell_type": "code",
   "execution_count": null,
   "id": "f98753fb",
   "metadata": {},
   "outputs": [
    {
     "name": "stdout",
     "output_type": "stream",
     "text": [
      "Defaulting to user installation because normal site-packages is not writeable\n",
      "Requirement already satisfied: openpyxl in /home/vishnu/.local/lib/python3.10/site-packages (3.1.5)\n",
      "Requirement already satisfied: et-xmlfile in /home/vishnu/.local/lib/python3.10/site-packages (from openpyxl) (2.0.0)\n"
     ]
    }
   ],
   "source": [
    "!pip install openpyxl"
   ]
  },
  {
   "cell_type": "code",
   "execution_count": 23,
   "id": "c2092735",
   "metadata": {},
   "outputs": [],
   "source": [
    "import pandas as pd\n"
   ]
  },
  {
   "cell_type": "code",
   "execution_count": null,
   "id": "66d4db32",
   "metadata": {},
   "outputs": [
    {
     "name": "stdout",
     "output_type": "stream",
     "text": [
      "                   name layer_type             workspace  \\\n",
      "0        admin_boundary     vector  panchayat_boundaries   \n",
      "1        aquifer_vector     vector               aquifer   \n",
      "2        drainage_lines     vector              drainage   \n",
      "3  change_Afforestation     raster      change_detection   \n",
      "\n",
      "                                layer_name  \\\n",
      "0                       [district]_[block]   \n",
      "1        aquifer_vector_[district]_[block]   \n",
      "2                       [district]_[block]   \n",
      "3  change_[district]_[block]_Afforestation   \n",
      "\n",
      "                                       geoserver_url  \\\n",
      "0  https://geoserver.core-stack.org:8443/geoserve...   \n",
      "1  https://geoserver.core-stack.org:8443/geoserve...   \n",
      "2  https://geoserver.core-stack.org:8443/geoserve...   \n",
      "3  https://geoserver.core-stack.org:8443/geoserve...   \n",
      "\n",
      "                                          github_url  \n",
      "0  https://raw.githubusercontent.com/core-stack-o...  \n",
      "1  https://raw.githubusercontent.com/core-stack-o...  \n",
      "2  https://raw.githubusercontent.com/core-stack-o...  \n",
      "3  https://raw.githubusercontent.com/core-stack-o...  \n"
     ]
    }
   ],
   "source": [
    "df = pd.read_csv('/home/vishnu/Desktop/geoserver_links.csv') ## Used sheet is updated in spreadsheet (short descriptions for all layers) at tab\n",
    "print(df)"
   ]
  },
  {
   "cell_type": "code",
   "execution_count": 36,
   "id": "1f9e8229",
   "metadata": {},
   "outputs": [
    {
     "data": {
      "text/html": [
       "<div>\n",
       "<style scoped>\n",
       "    .dataframe tbody tr th:only-of-type {\n",
       "        vertical-align: middle;\n",
       "    }\n",
       "\n",
       "    .dataframe tbody tr th {\n",
       "        vertical-align: top;\n",
       "    }\n",
       "\n",
       "    .dataframe thead th {\n",
       "        text-align: right;\n",
       "    }\n",
       "</style>\n",
       "<table border=\"1\" class=\"dataframe\">\n",
       "  <thead>\n",
       "    <tr style=\"text-align: right;\">\n",
       "      <th></th>\n",
       "      <th>block</th>\n",
       "      <th>district</th>\n",
       "      <th>state</th>\n",
       "    </tr>\n",
       "  </thead>\n",
       "  <tbody>\n",
       "    <tr>\n",
       "      <th>0</th>\n",
       "      <td>gobindpur</td>\n",
       "      <td>saraikela-kharsawan</td>\n",
       "      <td>jharkhand</td>\n",
       "    </tr>\n",
       "    <tr>\n",
       "      <th>1</th>\n",
       "      <td>mirzapur</td>\n",
       "      <td>mirzapur</td>\n",
       "      <td>uttar_pradesh</td>\n",
       "    </tr>\n",
       "    <tr>\n",
       "      <th>2</th>\n",
       "      <td>koraput</td>\n",
       "      <td>koraput</td>\n",
       "      <td>odisha</td>\n",
       "    </tr>\n",
       "    <tr>\n",
       "      <th>3</th>\n",
       "      <td>badlapur</td>\n",
       "      <td>jaunpur</td>\n",
       "      <td>uttar_pradesh</td>\n",
       "    </tr>\n",
       "  </tbody>\n",
       "</table>\n",
       "</div>"
      ],
      "text/plain": [
       "       block             district          state\n",
       "0  gobindpur  saraikela-kharsawan      jharkhand\n",
       "1   mirzapur             mirzapur  uttar_pradesh\n",
       "2    koraput              koraput         odisha\n",
       "3   badlapur              jaunpur  uttar_pradesh"
      ]
     },
     "execution_count": 36,
     "metadata": {},
     "output_type": "execute_result"
    }
   ],
   "source": [
    "block_district_state_df = pd.DataFrame({\n",
    "    'block' : ['gobindpur','mirzapur','koraput','badlapur'],\n",
    "    'district' : ['saraikela-kharsawan','mirzapur','koraput','jaunpur'],\n",
    "    'state' : ['jharkhand','uttar_pradesh','odisha','uttar_pradesh']\n",
    "})\n",
    "\n",
    "block_district_state_df\n"
   ]
  },
  {
   "cell_type": "code",
   "execution_count": 40,
   "id": "af7daefc",
   "metadata": {},
   "outputs": [],
   "source": [
    "state= 'uttar_pradesh'\n",
    "district='jaunpur'\n",
    "block= 'badlapur'\n",
    "name='admin_boundary'"
   ]
  },
  {
   "cell_type": "code",
   "execution_count": 69,
   "id": "7b689c8d",
   "metadata": {},
   "outputs": [
    {
     "name": "stdout",
     "output_type": "stream",
     "text": [
      "             name layer_type             workspace          layer_name  \\\n",
      "0  admin_boundary     vector  panchayat_boundaries  [district]_[block]   \n",
      "\n",
      "                                       geoserver_url  \\\n",
      "0  https://geoserver.core-stack.org:8443/geoserve...   \n",
      "\n",
      "                                          github_url  \n",
      "0  https://raw.githubusercontent.com/core-stack-o...  \n"
     ]
    }
   ],
   "source": [
    "selected_row = df[df['name'] == name]\n",
    "print(selected_row)"
   ]
  },
  {
   "cell_type": "code",
   "execution_count": 79,
   "id": "8889cbe1",
   "metadata": {},
   "outputs": [],
   "source": [
    "selected_row_data = selected_row.iloc[0]\n"
   ]
  },
  {
   "cell_type": "code",
   "execution_count": 80,
   "id": "4b18e453",
   "metadata": {},
   "outputs": [
    {
     "name": "stdout",
     "output_type": "stream",
     "text": [
      "panchayat_boundaries [district]_[block] https://geoserver.core-stack.org:8443/geoserver/[workspace]/ows?service=WFS&version=1.0.0&request=GetFeature&typeName=[workspace]%3A[layer_name]&outputFormat=application%2Fjson\n"
     ]
    }
   ],
   "source": [
    "workspace = selected_row_data['workspace']\n",
    "template_layer_name = selected_row_data['layer_name']\n",
    "template_url = selected_row_data['geoserver_url']\n",
    "print(workspace,template_layer_name,template_url)"
   ]
  },
  {
   "cell_type": "code",
   "execution_count": 81,
   "id": "eb16108a",
   "metadata": {},
   "outputs": [
    {
     "name": "stdout",
     "output_type": "stream",
     "text": [
      "jaunpur_badlapur\n"
     ]
    }
   ],
   "source": [
    "final_layer_name = template_layer_name.replace('[district]', district).replace('[block]', block)\n",
    "print(final_layer_name)"
   ]
  },
  {
   "cell_type": "code",
   "execution_count": 83,
   "id": "14b724b5",
   "metadata": {},
   "outputs": [
    {
     "name": "stdout",
     "output_type": "stream",
     "text": [
      "https://geoserver.core-stack.org:8443/geoserver/panchayat_boundaries/ows?service=WFS&version=1.0.0&request=GetFeature&typeName=panchayat_boundaries%3Ajaunpur_badlapur&outputFormat=application%2Fjson\n"
     ]
    }
   ],
   "source": [
    "final_url = template_url.replace('[workspace]', workspace).replace('[layer_name]', final_layer_name)\n",
    "print(final_url)"
   ]
  }
 ],
 "metadata": {
  "kernelspec": {
   "display_name": "Python 3",
   "language": "python",
   "name": "python3"
  },
  "language_info": {
   "codemirror_mode": {
    "name": "ipython",
    "version": 3
   },
   "file_extension": ".py",
   "mimetype": "text/x-python",
   "name": "python",
   "nbconvert_exporter": "python",
   "pygments_lexer": "ipython3",
   "version": "3.10.12"
  }
 },
 "nbformat": 4,
 "nbformat_minor": 5
}
