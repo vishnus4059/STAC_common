{
 "cells": [
  {
   "cell_type": "code",
   "execution_count": null,
   "id": "a7466fc1",
   "metadata": {},
   "outputs": [],
   "source": [
    "import ee\n",
    "\n",
    "# Initialize the Earth Engine API.\n",
    "# You may need to authenticate if you haven't already.\n",
    "# Use 'ee.Authenticate()' followed by 'ee.Initialize()'\n",
    "# if you're running this for the first time.\n",
    "ee.Initialize()\n",
    "\n",
    "# Define the Earth Engine asset to be downloaded.\n",
    "image_asset_id = \"projects/ee-corestackdev/assets/apps/mws/jharkhand/saraikela-kharsawan/gobindpur/saraikela-kharsawan_gobindpur_2023-07-01_2024-06-30_LULCmap_10m\"\n",
    "image = ee.Image(image_asset_id)\n",
    "\n",
    "# Define the region to export. In this case, we'll use the\n",
    "# image's own footprint.\n",
    "region = image.geometry().bounds()\n",
    "\n",
    "# Define export parameters.\n",
    "task_config = {\n",
    "    'image': image,\n",
    "    'description': 'saraikela-kharsawan_gobindpur_LULCmap',\n",
    "    'folder': 'GEE_Exports',  # The name of the folder in your Google Drive\n",
    "    'fileNamePrefix': 'saraikela-kharsawan_gobindpur_LULCmap',\n",
    "    'region': region,\n",
    "    'scale': 10, # The resolution of the output image in meters\n",
    "    'fileFormat': 'GeoTIFF',\n",
    "    'maxPixels': 1e13 # Increase this if the image is very large\n",
    "}\n",
    "\n",
    "# Create and start the export task.\n",
    "task = ee.batch.Export.image.toDrive(**task_config)\n",
    "task.start()\n",
    "\n",
    "print(f\"Export task '{task.id}' started. Check your GEE Tasks tab and Google Drive 'GEE_Exports' folder for progress.\")"
   ]
  }
 ],
 "metadata": {
  "language_info": {
   "name": "python"
  }
 },
 "nbformat": 4,
 "nbformat_minor": 5
}
