{
 "cells": [
  {
   "cell_type": "code",
   "execution_count": 1,
   "id": "d98d4c58",
   "metadata": {},
   "outputs": [],
   "source": [
    "import requests\n",
    "from io import BytesIO\n",
    "import rasterio\n",
    "from rasterio.warp import transform_bounds\n",
    "import xml.etree.ElementTree as ET\n",
    "from pystac.extensions.table import TableExtension\n",
    "from shapely.geometry import mapping, box\n"
   ]
  },
  {
   "cell_type": "code",
   "execution_count": 24,
   "id": "0521f961",
   "metadata": {},
   "outputs": [],
   "source": [
    "\n",
    "\n",
    "state = \"uttar_pradesh\"\n",
    "district = \"jaunpur\"\n",
    "block = \"badlapur\"\n",
    "\n",
    "GEOSERVER_WCS_URL = \"https://geoserver.core-stack.org:8443/geoserver/LULC_level_1/wcs\"\n",
    "coverage_id = \"LULC_level_1:LULC_23_24_badlapur_level_1\"\n",
    "\n",
    "params = {\n",
    "    \"service\": \"WCS\",\n",
    "    \"version\": \"2.0.1\",\n",
    "    \"request\": \"GetCoverage\",\n",
    "    \"CoverageId\": coverage_id,\n",
    "    #\"bbox\": bbox,\n",
    "    \"format\": \"geotiff\"\n",
    "}\n"
   ]
  },
  {
   "cell_type": "code",
   "execution_count": 25,
   "id": "4cbd9bfb",
   "metadata": {},
   "outputs": [
    {
     "name": "stderr",
     "output_type": "stream",
     "text": [
      "/home/vishnu/.local/lib/python3.10/site-packages/urllib3/connectionpool.py:1097: InsecureRequestWarning: Unverified HTTPS request is being made to host 'geoserver.core-stack.org'. Adding certificate verification is strongly advised. See: https://urllib3.readthedocs.io/en/latest/advanced-usage.html#tls-warnings\n",
      "  warnings.warn(\n"
     ]
    },
    {
     "ename": "KeyboardInterrupt",
     "evalue": "",
     "output_type": "error",
     "traceback": [
      "\u001b[0;31m---------------------------------------------------------------------------\u001b[0m",
      "\u001b[0;31mKeyboardInterrupt\u001b[0m                         Traceback (most recent call last)",
      "Cell \u001b[0;32mIn[25], line 1\u001b[0m\n\u001b[0;32m----> 1\u001b[0m response \u001b[38;5;241m=\u001b[39m \u001b[43mrequests\u001b[49m\u001b[38;5;241;43m.\u001b[39;49m\u001b[43mget\u001b[49m\u001b[43m(\u001b[49m\u001b[43mGEOSERVER_WCS_URL\u001b[49m\u001b[43m,\u001b[49m\u001b[43m \u001b[49m\u001b[43mparams\u001b[49m\u001b[38;5;241;43m=\u001b[39;49m\u001b[43mparams\u001b[49m\u001b[43m,\u001b[49m\u001b[43m \u001b[49m\u001b[43mverify\u001b[49m\u001b[38;5;241;43m=\u001b[39;49m\u001b[38;5;28;43;01mFalse\u001b[39;49;00m\u001b[43m)\u001b[49m\n\u001b[1;32m      2\u001b[0m response\u001b[38;5;241m.\u001b[39mraise_for_status()\n\u001b[1;32m      3\u001b[0m raster_data \u001b[38;5;241m=\u001b[39m BytesIO(response\u001b[38;5;241m.\u001b[39mcontent)\n",
      "File \u001b[0;32m~/.local/lib/python3.10/site-packages/requests/api.py:73\u001b[0m, in \u001b[0;36mget\u001b[0;34m(url, params, **kwargs)\u001b[0m\n\u001b[1;32m     62\u001b[0m \u001b[38;5;28;01mdef\u001b[39;00m\u001b[38;5;250m \u001b[39m\u001b[38;5;21mget\u001b[39m(url, params\u001b[38;5;241m=\u001b[39m\u001b[38;5;28;01mNone\u001b[39;00m, \u001b[38;5;241m*\u001b[39m\u001b[38;5;241m*\u001b[39mkwargs):\n\u001b[1;32m     63\u001b[0m \u001b[38;5;250m    \u001b[39m\u001b[38;5;124mr\u001b[39m\u001b[38;5;124;03m\"\"\"Sends a GET request.\u001b[39;00m\n\u001b[1;32m     64\u001b[0m \n\u001b[1;32m     65\u001b[0m \u001b[38;5;124;03m    :param url: URL for the new :class:`Request` object.\u001b[39;00m\n\u001b[0;32m   (...)\u001b[0m\n\u001b[1;32m     70\u001b[0m \u001b[38;5;124;03m    :rtype: requests.Response\u001b[39;00m\n\u001b[1;32m     71\u001b[0m \u001b[38;5;124;03m    \"\"\"\u001b[39;00m\n\u001b[0;32m---> 73\u001b[0m     \u001b[38;5;28;01mreturn\u001b[39;00m \u001b[43mrequest\u001b[49m\u001b[43m(\u001b[49m\u001b[38;5;124;43m\"\u001b[39;49m\u001b[38;5;124;43mget\u001b[39;49m\u001b[38;5;124;43m\"\u001b[39;49m\u001b[43m,\u001b[49m\u001b[43m \u001b[49m\u001b[43murl\u001b[49m\u001b[43m,\u001b[49m\u001b[43m \u001b[49m\u001b[43mparams\u001b[49m\u001b[38;5;241;43m=\u001b[39;49m\u001b[43mparams\u001b[49m\u001b[43m,\u001b[49m\u001b[43m \u001b[49m\u001b[38;5;241;43m*\u001b[39;49m\u001b[38;5;241;43m*\u001b[39;49m\u001b[43mkwargs\u001b[49m\u001b[43m)\u001b[49m\n",
      "File \u001b[0;32m~/.local/lib/python3.10/site-packages/requests/api.py:59\u001b[0m, in \u001b[0;36mrequest\u001b[0;34m(method, url, **kwargs)\u001b[0m\n\u001b[1;32m     55\u001b[0m \u001b[38;5;66;03m# By using the 'with' statement we are sure the session is closed, thus we\u001b[39;00m\n\u001b[1;32m     56\u001b[0m \u001b[38;5;66;03m# avoid leaving sockets open which can trigger a ResourceWarning in some\u001b[39;00m\n\u001b[1;32m     57\u001b[0m \u001b[38;5;66;03m# cases, and look like a memory leak in others.\u001b[39;00m\n\u001b[1;32m     58\u001b[0m \u001b[38;5;28;01mwith\u001b[39;00m sessions\u001b[38;5;241m.\u001b[39mSession() \u001b[38;5;28;01mas\u001b[39;00m session:\n\u001b[0;32m---> 59\u001b[0m     \u001b[38;5;28;01mreturn\u001b[39;00m \u001b[43msession\u001b[49m\u001b[38;5;241;43m.\u001b[39;49m\u001b[43mrequest\u001b[49m\u001b[43m(\u001b[49m\u001b[43mmethod\u001b[49m\u001b[38;5;241;43m=\u001b[39;49m\u001b[43mmethod\u001b[49m\u001b[43m,\u001b[49m\u001b[43m \u001b[49m\u001b[43murl\u001b[49m\u001b[38;5;241;43m=\u001b[39;49m\u001b[43murl\u001b[49m\u001b[43m,\u001b[49m\u001b[43m \u001b[49m\u001b[38;5;241;43m*\u001b[39;49m\u001b[38;5;241;43m*\u001b[39;49m\u001b[43mkwargs\u001b[49m\u001b[43m)\u001b[49m\n",
      "File \u001b[0;32m~/.local/lib/python3.10/site-packages/requests/sessions.py:589\u001b[0m, in \u001b[0;36mSession.request\u001b[0;34m(self, method, url, params, data, headers, cookies, files, auth, timeout, allow_redirects, proxies, hooks, stream, verify, cert, json)\u001b[0m\n\u001b[1;32m    584\u001b[0m send_kwargs \u001b[38;5;241m=\u001b[39m {\n\u001b[1;32m    585\u001b[0m     \u001b[38;5;124m\"\u001b[39m\u001b[38;5;124mtimeout\u001b[39m\u001b[38;5;124m\"\u001b[39m: timeout,\n\u001b[1;32m    586\u001b[0m     \u001b[38;5;124m\"\u001b[39m\u001b[38;5;124mallow_redirects\u001b[39m\u001b[38;5;124m\"\u001b[39m: allow_redirects,\n\u001b[1;32m    587\u001b[0m }\n\u001b[1;32m    588\u001b[0m send_kwargs\u001b[38;5;241m.\u001b[39mupdate(settings)\n\u001b[0;32m--> 589\u001b[0m resp \u001b[38;5;241m=\u001b[39m \u001b[38;5;28;43mself\u001b[39;49m\u001b[38;5;241;43m.\u001b[39;49m\u001b[43msend\u001b[49m\u001b[43m(\u001b[49m\u001b[43mprep\u001b[49m\u001b[43m,\u001b[49m\u001b[43m \u001b[49m\u001b[38;5;241;43m*\u001b[39;49m\u001b[38;5;241;43m*\u001b[39;49m\u001b[43msend_kwargs\u001b[49m\u001b[43m)\u001b[49m\n\u001b[1;32m    591\u001b[0m \u001b[38;5;28;01mreturn\u001b[39;00m resp\n",
      "File \u001b[0;32m~/.local/lib/python3.10/site-packages/requests/sessions.py:746\u001b[0m, in \u001b[0;36mSession.send\u001b[0;34m(self, request, **kwargs)\u001b[0m\n\u001b[1;32m    743\u001b[0m         \u001b[38;5;28;01mpass\u001b[39;00m\n\u001b[1;32m    745\u001b[0m \u001b[38;5;28;01mif\u001b[39;00m \u001b[38;5;129;01mnot\u001b[39;00m stream:\n\u001b[0;32m--> 746\u001b[0m     \u001b[43mr\u001b[49m\u001b[38;5;241;43m.\u001b[39;49m\u001b[43mcontent\u001b[49m\n\u001b[1;32m    748\u001b[0m \u001b[38;5;28;01mreturn\u001b[39;00m r\n",
      "File \u001b[0;32m~/.local/lib/python3.10/site-packages/requests/models.py:902\u001b[0m, in \u001b[0;36mResponse.content\u001b[0;34m(self)\u001b[0m\n\u001b[1;32m    900\u001b[0m         \u001b[38;5;28mself\u001b[39m\u001b[38;5;241m.\u001b[39m_content \u001b[38;5;241m=\u001b[39m \u001b[38;5;28;01mNone\u001b[39;00m\n\u001b[1;32m    901\u001b[0m     \u001b[38;5;28;01melse\u001b[39;00m:\n\u001b[0;32m--> 902\u001b[0m         \u001b[38;5;28mself\u001b[39m\u001b[38;5;241m.\u001b[39m_content \u001b[38;5;241m=\u001b[39m \u001b[38;5;124;43mb\u001b[39;49m\u001b[38;5;124;43m\"\u001b[39;49m\u001b[38;5;124;43m\"\u001b[39;49m\u001b[38;5;241;43m.\u001b[39;49m\u001b[43mjoin\u001b[49m\u001b[43m(\u001b[49m\u001b[38;5;28;43mself\u001b[39;49m\u001b[38;5;241;43m.\u001b[39;49m\u001b[43miter_content\u001b[49m\u001b[43m(\u001b[49m\u001b[43mCONTENT_CHUNK_SIZE\u001b[49m\u001b[43m)\u001b[49m\u001b[43m)\u001b[49m \u001b[38;5;129;01mor\u001b[39;00m \u001b[38;5;124mb\u001b[39m\u001b[38;5;124m\"\u001b[39m\u001b[38;5;124m\"\u001b[39m\n\u001b[1;32m    904\u001b[0m \u001b[38;5;28mself\u001b[39m\u001b[38;5;241m.\u001b[39m_content_consumed \u001b[38;5;241m=\u001b[39m \u001b[38;5;28;01mTrue\u001b[39;00m\n\u001b[1;32m    905\u001b[0m \u001b[38;5;66;03m# don't need to release the connection; that's been handled by urllib3\u001b[39;00m\n\u001b[1;32m    906\u001b[0m \u001b[38;5;66;03m# since we exhausted the data.\u001b[39;00m\n",
      "File \u001b[0;32m~/.local/lib/python3.10/site-packages/requests/models.py:820\u001b[0m, in \u001b[0;36mResponse.iter_content.<locals>.generate\u001b[0;34m()\u001b[0m\n\u001b[1;32m    818\u001b[0m \u001b[38;5;28;01mif\u001b[39;00m \u001b[38;5;28mhasattr\u001b[39m(\u001b[38;5;28mself\u001b[39m\u001b[38;5;241m.\u001b[39mraw, \u001b[38;5;124m\"\u001b[39m\u001b[38;5;124mstream\u001b[39m\u001b[38;5;124m\"\u001b[39m):\n\u001b[1;32m    819\u001b[0m     \u001b[38;5;28;01mtry\u001b[39;00m:\n\u001b[0;32m--> 820\u001b[0m         \u001b[38;5;28;01myield from\u001b[39;00m \u001b[38;5;28mself\u001b[39m\u001b[38;5;241m.\u001b[39mraw\u001b[38;5;241m.\u001b[39mstream(chunk_size, decode_content\u001b[38;5;241m=\u001b[39m\u001b[38;5;28;01mTrue\u001b[39;00m)\n\u001b[1;32m    821\u001b[0m     \u001b[38;5;28;01mexcept\u001b[39;00m ProtocolError \u001b[38;5;28;01mas\u001b[39;00m e:\n\u001b[1;32m    822\u001b[0m         \u001b[38;5;28;01mraise\u001b[39;00m ChunkedEncodingError(e)\n",
      "File \u001b[0;32m~/.local/lib/python3.10/site-packages/urllib3/response.py:1088\u001b[0m, in \u001b[0;36mHTTPResponse.stream\u001b[0;34m(self, amt, decode_content)\u001b[0m\n\u001b[1;32m   1072\u001b[0m \u001b[38;5;250m\u001b[39m\u001b[38;5;124;03m\"\"\"\u001b[39;00m\n\u001b[1;32m   1073\u001b[0m \u001b[38;5;124;03mA generator wrapper for the read() method. A call will block until\u001b[39;00m\n\u001b[1;32m   1074\u001b[0m \u001b[38;5;124;03m``amt`` bytes have been read from the connection or until the\u001b[39;00m\n\u001b[0;32m   (...)\u001b[0m\n\u001b[1;32m   1085\u001b[0m \u001b[38;5;124;03m    'content-encoding' header.\u001b[39;00m\n\u001b[1;32m   1086\u001b[0m \u001b[38;5;124;03m\"\"\"\u001b[39;00m\n\u001b[1;32m   1087\u001b[0m \u001b[38;5;28;01mif\u001b[39;00m \u001b[38;5;28mself\u001b[39m\u001b[38;5;241m.\u001b[39mchunked \u001b[38;5;129;01mand\u001b[39;00m \u001b[38;5;28mself\u001b[39m\u001b[38;5;241m.\u001b[39msupports_chunked_reads():\n\u001b[0;32m-> 1088\u001b[0m     \u001b[38;5;28;01myield from\u001b[39;00m \u001b[38;5;28mself\u001b[39m\u001b[38;5;241m.\u001b[39mread_chunked(amt, decode_content\u001b[38;5;241m=\u001b[39mdecode_content)\n\u001b[1;32m   1089\u001b[0m \u001b[38;5;28;01melse\u001b[39;00m:\n\u001b[1;32m   1090\u001b[0m     \u001b[38;5;28;01mwhile\u001b[39;00m \u001b[38;5;129;01mnot\u001b[39;00m is_fp_closed(\u001b[38;5;28mself\u001b[39m\u001b[38;5;241m.\u001b[39m_fp) \u001b[38;5;129;01mor\u001b[39;00m \u001b[38;5;28mlen\u001b[39m(\u001b[38;5;28mself\u001b[39m\u001b[38;5;241m.\u001b[39m_decoded_buffer) \u001b[38;5;241m>\u001b[39m \u001b[38;5;241m0\u001b[39m:\n",
      "File \u001b[0;32m~/.local/lib/python3.10/site-packages/urllib3/response.py:1251\u001b[0m, in \u001b[0;36mHTTPResponse.read_chunked\u001b[0;34m(self, amt, decode_content)\u001b[0m\n\u001b[1;32m   1249\u001b[0m \u001b[38;5;28;01mif\u001b[39;00m \u001b[38;5;28mself\u001b[39m\u001b[38;5;241m.\u001b[39mchunk_left \u001b[38;5;241m==\u001b[39m \u001b[38;5;241m0\u001b[39m:\n\u001b[1;32m   1250\u001b[0m     \u001b[38;5;28;01mbreak\u001b[39;00m\n\u001b[0;32m-> 1251\u001b[0m chunk \u001b[38;5;241m=\u001b[39m \u001b[38;5;28;43mself\u001b[39;49m\u001b[38;5;241;43m.\u001b[39;49m\u001b[43m_handle_chunk\u001b[49m\u001b[43m(\u001b[49m\u001b[43mamt\u001b[49m\u001b[43m)\u001b[49m\n\u001b[1;32m   1252\u001b[0m decoded \u001b[38;5;241m=\u001b[39m \u001b[38;5;28mself\u001b[39m\u001b[38;5;241m.\u001b[39m_decode(\n\u001b[1;32m   1253\u001b[0m     chunk, decode_content\u001b[38;5;241m=\u001b[39mdecode_content, flush_decoder\u001b[38;5;241m=\u001b[39m\u001b[38;5;28;01mFalse\u001b[39;00m\n\u001b[1;32m   1254\u001b[0m )\n\u001b[1;32m   1255\u001b[0m \u001b[38;5;28;01mif\u001b[39;00m decoded:\n",
      "File \u001b[0;32m~/.local/lib/python3.10/site-packages/urllib3/response.py:1197\u001b[0m, in \u001b[0;36mHTTPResponse._handle_chunk\u001b[0;34m(self, amt)\u001b[0m\n\u001b[1;32m   1195\u001b[0m     returned_chunk \u001b[38;5;241m=\u001b[39m value\n\u001b[1;32m   1196\u001b[0m \u001b[38;5;28;01melse\u001b[39;00m:  \u001b[38;5;66;03m# amt > self.chunk_left\u001b[39;00m\n\u001b[0;32m-> 1197\u001b[0m     returned_chunk \u001b[38;5;241m=\u001b[39m \u001b[38;5;28;43mself\u001b[39;49m\u001b[38;5;241;43m.\u001b[39;49m\u001b[43m_fp\u001b[49m\u001b[38;5;241;43m.\u001b[39;49m\u001b[43m_safe_read\u001b[49m\u001b[43m(\u001b[49m\u001b[38;5;28;43mself\u001b[39;49m\u001b[38;5;241;43m.\u001b[39;49m\u001b[43mchunk_left\u001b[49m\u001b[43m)\u001b[49m  \u001b[38;5;66;03m# type: ignore[union-attr]\u001b[39;00m\n\u001b[1;32m   1198\u001b[0m     \u001b[38;5;28mself\u001b[39m\u001b[38;5;241m.\u001b[39m_fp\u001b[38;5;241m.\u001b[39m_safe_read(\u001b[38;5;241m2\u001b[39m)  \u001b[38;5;66;03m# type: ignore[union-attr] # Toss the CRLF at the end of the chunk.\u001b[39;00m\n\u001b[1;32m   1199\u001b[0m     \u001b[38;5;28mself\u001b[39m\u001b[38;5;241m.\u001b[39mchunk_left \u001b[38;5;241m=\u001b[39m \u001b[38;5;28;01mNone\u001b[39;00m\n",
      "File \u001b[0;32m/usr/lib/python3.10/http/client.py:631\u001b[0m, in \u001b[0;36mHTTPResponse._safe_read\u001b[0;34m(self, amt)\u001b[0m\n\u001b[1;32m    624\u001b[0m \u001b[38;5;28;01mdef\u001b[39;00m\u001b[38;5;250m \u001b[39m\u001b[38;5;21m_safe_read\u001b[39m(\u001b[38;5;28mself\u001b[39m, amt):\n\u001b[1;32m    625\u001b[0m \u001b[38;5;250m    \u001b[39m\u001b[38;5;124;03m\"\"\"Read the number of bytes requested.\u001b[39;00m\n\u001b[1;32m    626\u001b[0m \n\u001b[1;32m    627\u001b[0m \u001b[38;5;124;03m    This function should be used when <amt> bytes \"should\" be present for\u001b[39;00m\n\u001b[1;32m    628\u001b[0m \u001b[38;5;124;03m    reading. If the bytes are truly not available (due to EOF), then the\u001b[39;00m\n\u001b[1;32m    629\u001b[0m \u001b[38;5;124;03m    IncompleteRead exception can be used to detect the problem.\u001b[39;00m\n\u001b[1;32m    630\u001b[0m \u001b[38;5;124;03m    \"\"\"\u001b[39;00m\n\u001b[0;32m--> 631\u001b[0m     data \u001b[38;5;241m=\u001b[39m \u001b[38;5;28;43mself\u001b[39;49m\u001b[38;5;241;43m.\u001b[39;49m\u001b[43mfp\u001b[49m\u001b[38;5;241;43m.\u001b[39;49m\u001b[43mread\u001b[49m\u001b[43m(\u001b[49m\u001b[43mamt\u001b[49m\u001b[43m)\u001b[49m\n\u001b[1;32m    632\u001b[0m     \u001b[38;5;28;01mif\u001b[39;00m \u001b[38;5;28mlen\u001b[39m(data) \u001b[38;5;241m<\u001b[39m amt:\n\u001b[1;32m    633\u001b[0m         \u001b[38;5;28;01mraise\u001b[39;00m IncompleteRead(data, amt\u001b[38;5;241m-\u001b[39m\u001b[38;5;28mlen\u001b[39m(data))\n",
      "File \u001b[0;32m/usr/lib/python3.10/socket.py:705\u001b[0m, in \u001b[0;36mSocketIO.readinto\u001b[0;34m(self, b)\u001b[0m\n\u001b[1;32m    703\u001b[0m \u001b[38;5;28;01mwhile\u001b[39;00m \u001b[38;5;28;01mTrue\u001b[39;00m:\n\u001b[1;32m    704\u001b[0m     \u001b[38;5;28;01mtry\u001b[39;00m:\n\u001b[0;32m--> 705\u001b[0m         \u001b[38;5;28;01mreturn\u001b[39;00m \u001b[38;5;28;43mself\u001b[39;49m\u001b[38;5;241;43m.\u001b[39;49m\u001b[43m_sock\u001b[49m\u001b[38;5;241;43m.\u001b[39;49m\u001b[43mrecv_into\u001b[49m\u001b[43m(\u001b[49m\u001b[43mb\u001b[49m\u001b[43m)\u001b[49m\n\u001b[1;32m    706\u001b[0m     \u001b[38;5;28;01mexcept\u001b[39;00m timeout:\n\u001b[1;32m    707\u001b[0m         \u001b[38;5;28mself\u001b[39m\u001b[38;5;241m.\u001b[39m_timeout_occurred \u001b[38;5;241m=\u001b[39m \u001b[38;5;28;01mTrue\u001b[39;00m\n",
      "File \u001b[0;32m/usr/lib/python3.10/ssl.py:1303\u001b[0m, in \u001b[0;36mSSLSocket.recv_into\u001b[0;34m(self, buffer, nbytes, flags)\u001b[0m\n\u001b[1;32m   1299\u001b[0m     \u001b[38;5;28;01mif\u001b[39;00m flags \u001b[38;5;241m!=\u001b[39m \u001b[38;5;241m0\u001b[39m:\n\u001b[1;32m   1300\u001b[0m         \u001b[38;5;28;01mraise\u001b[39;00m \u001b[38;5;167;01mValueError\u001b[39;00m(\n\u001b[1;32m   1301\u001b[0m           \u001b[38;5;124m\"\u001b[39m\u001b[38;5;124mnon-zero flags not allowed in calls to recv_into() on \u001b[39m\u001b[38;5;132;01m%s\u001b[39;00m\u001b[38;5;124m\"\u001b[39m \u001b[38;5;241m%\u001b[39m\n\u001b[1;32m   1302\u001b[0m           \u001b[38;5;28mself\u001b[39m\u001b[38;5;241m.\u001b[39m\u001b[38;5;18m__class__\u001b[39m)\n\u001b[0;32m-> 1303\u001b[0m     \u001b[38;5;28;01mreturn\u001b[39;00m \u001b[38;5;28;43mself\u001b[39;49m\u001b[38;5;241;43m.\u001b[39;49m\u001b[43mread\u001b[49m\u001b[43m(\u001b[49m\u001b[43mnbytes\u001b[49m\u001b[43m,\u001b[49m\u001b[43m \u001b[49m\u001b[43mbuffer\u001b[49m\u001b[43m)\u001b[49m\n\u001b[1;32m   1304\u001b[0m \u001b[38;5;28;01melse\u001b[39;00m:\n\u001b[1;32m   1305\u001b[0m     \u001b[38;5;28;01mreturn\u001b[39;00m \u001b[38;5;28msuper\u001b[39m()\u001b[38;5;241m.\u001b[39mrecv_into(buffer, nbytes, flags)\n",
      "File \u001b[0;32m/usr/lib/python3.10/ssl.py:1159\u001b[0m, in \u001b[0;36mSSLSocket.read\u001b[0;34m(self, len, buffer)\u001b[0m\n\u001b[1;32m   1157\u001b[0m \u001b[38;5;28;01mtry\u001b[39;00m:\n\u001b[1;32m   1158\u001b[0m     \u001b[38;5;28;01mif\u001b[39;00m buffer \u001b[38;5;129;01mis\u001b[39;00m \u001b[38;5;129;01mnot\u001b[39;00m \u001b[38;5;28;01mNone\u001b[39;00m:\n\u001b[0;32m-> 1159\u001b[0m         \u001b[38;5;28;01mreturn\u001b[39;00m \u001b[38;5;28;43mself\u001b[39;49m\u001b[38;5;241;43m.\u001b[39;49m\u001b[43m_sslobj\u001b[49m\u001b[38;5;241;43m.\u001b[39;49m\u001b[43mread\u001b[49m\u001b[43m(\u001b[49m\u001b[38;5;28;43mlen\u001b[39;49m\u001b[43m,\u001b[49m\u001b[43m \u001b[49m\u001b[43mbuffer\u001b[49m\u001b[43m)\u001b[49m\n\u001b[1;32m   1160\u001b[0m     \u001b[38;5;28;01melse\u001b[39;00m:\n\u001b[1;32m   1161\u001b[0m         \u001b[38;5;28;01mreturn\u001b[39;00m \u001b[38;5;28mself\u001b[39m\u001b[38;5;241m.\u001b[39m_sslobj\u001b[38;5;241m.\u001b[39mread(\u001b[38;5;28mlen\u001b[39m)\n",
      "\u001b[0;31mKeyboardInterrupt\u001b[0m: "
     ]
    }
   ],
   "source": [
    "response = requests.get(GEOSERVER_WCS_URL, params=params, verify=False)\n",
    "response.raise_for_status()\n",
    "raster_data = BytesIO(response.content)\n",
    "\n",
    "with rasterio.open(raster_data) as src:\n",
    "    bbox = src.bounds\n",
    "    print(f\"Bounding Box: {bbox}\")"
   ]
  },
  {
   "cell_type": "code",
   "execution_count": 26,
   "id": "4392e588",
   "metadata": {},
   "outputs": [
    {
     "name": "stderr",
     "output_type": "stream",
     "text": [
      "/home/vishnu/.local/lib/python3.10/site-packages/urllib3/connectionpool.py:1097: InsecureRequestWarning: Unverified HTTPS request is being made to host 'geoserver.core-stack.org'. Adding certificate verification is strongly advised. See: https://urllib3.readthedocs.io/en/latest/advanced-usage.html#tls-warnings\n",
      "  warnings.warn(\n"
     ]
    },
    {
     "name": "stdout",
     "output_type": "stream",
     "text": [
      "EPSG: 4326 \n",
      "Image Dimensions:\n",
      "Width: 5442 pixels\n",
      "Height: 3150 pixels\n",
      "Raster resolution (GSD): 9.474690935940632 meters\n"
     ]
    }
   ],
   "source": [
    "params = {\n",
    "    \"service\": \"WCS\",\n",
    "    \"version\": \"2.0.1\",\n",
    "    \"request\": \"GetCoverage\",\n",
    "    \"CoverageId\": coverage_id,\n",
    "    \"format\": \"geotiff\"\n",
    "}\n",
    "\n",
    "try:\n",
    "\n",
    "    response = requests.get(GEOSERVER_WCS_URL, params=params, verify=False)\n",
    "    response.raise_for_status()\n",
    "\n",
    "    raster_data = BytesIO(response.content)\n",
    "            \n",
    "\n",
    "\n",
    "    with rasterio.open(raster_data) as src:\n",
    "        bounds = src.bounds\n",
    "        geom = mapping(box(*bounds))\n",
    "        data_type = str(src.dtypes[0])\n",
    "        height, width = src.shape\n",
    "        data_crs = src.crs\n",
    "\n",
    "        proj_epsg = None\n",
    "        if src.crs and src.crs.is_epsg_code:\n",
    "            proj_epsg = src.crs.to_epsg()\n",
    "\n",
    "        print(f\"EPSG: {proj_epsg} \")\n",
    "        print(f\"Image Dimensions:\")\n",
    "        print(f\"Width: {width} pixels\")\n",
    "        print(f\"Height: {height} pixels\") \n",
    "        \n",
    "        if proj_epsg != 7755:\n",
    "            reprojected_bounds = transform_bounds(src.crs, 'EPSG:7755', *bounds)\n",
    "            bbox = list(reprojected_bounds)\n",
    "            gsd_x = (reprojected_bounds[2] - reprojected_bounds[0]) / width\n",
    "            gsd_y = (reprojected_bounds[3] - reprojected_bounds[1]) / height\n",
    "            gsd = (gsd_x + gsd_y) / 2\n",
    "        else:\n",
    "            bbox = [bounds.left, bounds.bottom, bounds.right, bounds.top]\n",
    "            gsd = src.res[0]\n",
    "            \n",
    "    print(f\"Raster resolution (GSD): {gsd} meters\")  \n",
    "\n",
    "except requests.exceptions.RequestException as e:\n",
    "    print(f\"An error occurred while fetching data from GeoServer: {e}\")     "
   ]
  },
  {
   "cell_type": "code",
   "execution_count": null,
   "id": "a37d14f6",
   "metadata": {},
   "outputs": [
    {
     "name": "stderr",
     "output_type": "stream",
     "text": [
      "/home/vishnu/.local/lib/python3.10/site-packages/urllib3/connectionpool.py:1097: InsecureRequestWarning: Unverified HTTPS request is being made to host 'raw.githubusercontent.com'. Adding certificate verification is strongly advised. See: https://urllib3.readthedocs.io/en/latest/advanced-usage.html#tls-warnings\n",
      "  warnings.warn(\n"
     ]
    },
    {
     "name": "stdout",
     "output_type": "stream",
     "text": [
      "Parsed QML classes from GitHub:\n",
      "{'value': 0, 'label': 'clear', 'alpha': '0', 'color': '#000000'}\n",
      "{'value': 1, 'label': 'built up', 'alpha': '255', 'color': '#ff0000'}\n",
      "{'value': 2, 'label': 'kharif water', 'alpha': '255', 'color': '#74ccf4'}\n",
      "{'value': 3, 'label': 'kharif and rabi water', 'alpha': '255', 'color': '#1ca3ec'}\n",
      "{'value': 4, 'label': 'kharif and rabi and zaid water', 'alpha': '255', 'color': '#0f5e9c'}\n",
      "{'value': 5, 'label': 'crops', 'alpha': '255', 'color': '#f1c232'}\n",
      "{'value': 6, 'label': 'trees', 'alpha': '255', 'color': '#38761d'}\n",
      "{'value': 7, 'label': 'barren land', 'alpha': '255', 'color': '#a9a9a9'}\n",
      "{'value': 8, 'label': 'single kharif cropping', 'alpha': '255', 'color': '#bad93e'}\n",
      "{'value': 9, 'label': 'single non-kharif Cropping', 'alpha': '255', 'color': '#f59d22'}\n",
      "{'value': 10, 'label': 'double cropping', 'alpha': '255', 'color': '#ff9371'}\n",
      "{'value': 11, 'label': 'tripple/annual/perennial cropping', 'alpha': '255', 'color': '#b3561d'}\n",
      "{'value': 12, 'label': 'shrubs and scrubs', 'alpha': '255', 'color': '#a9a9a9'}\n"
     ]
    }
   ],
   "source": [
    "import geopandas as gpd\n",
    "import matplotlib.pyplot as plt\n",
    "from matplotlib.colors import ListedColormap, Normalize\n",
    "import requests\n",
    "import os\n",
    "import xml.etree.ElementTree as ET\n",
    "from io import BytesIO\n",
    "\n",
    "def parse_qml_classes_from_url(qml_url):\n",
    "    try:\n",
    "        response = requests.get(qml_url, verify=False)\n",
    "        response.raise_for_status()\n",
    "        \n",
    "    \n",
    "        tree = ET.parse(BytesIO(response.content))\n",
    "        root = tree.getroot()\n",
    "        classes = []\n",
    "\n",
    "        for entry in root.findall(\".//paletteEntry\"):\n",
    "            class_info = {}\n",
    "            for attr_key, attr_value in entry.attrib.items():\n",
    "                if attr_key == \"value\":\n",
    "                    try:\n",
    "                        class_info[attr_key] = int(attr_value)\n",
    "                    except ValueError:\n",
    "                        class_info[attr_key] = attr_value\n",
    "                else:\n",
    "                    class_info[attr_key] = attr_value\n",
    "            classes.append(class_info)\n",
    "\n",
    "        if not classes:\n",
    "            for entry in root.findall(\".//item\"):\n",
    "                class_info = {}\n",
    "                for attr_key, attr_value in entry.attrib.items():\n",
    "                    if attr_key == \"value\":\n",
    "                        try:\n",
    "                            class_info[attr_key] = int(attr_value)\n",
    "                        except ValueError:\n",
    "                            class_info[attr_key] = attr_value\n",
    "                    else:\n",
    "                        class_info[attr_key] = attr_value\n",
    "                classes.append(class_info)\n",
    "        return classes\n",
    "\n",
    "    except requests.exceptions.RequestException as e:\n",
    "        print(f\"Error fetching QML file from URL: {e}\")\n",
    "        return None\n",
    "    except ET.ParseError as e:\n",
    "        print(f\"Error parsing XML from QML file: {e}\")\n",
    "        return None\n",
    "\n",
    "github_raw_qml_url = \"https://raw.githubusercontent.com/core-stack-org/QGIS-Styles/main/Land/LULC0_12class.qml\"\n",
    "\n",
    "style_info = parse_qml_classes_from_url(github_raw_qml_url)\n",
    "\n",
    "if style_info:\n",
    "    print(\"Parsed QML classes from GitHub:\")\n",
    "    for cls in style_info:\n",
    "        print(cls)"
   ]
  },
  {
   "cell_type": "code",
   "execution_count": null,
   "id": "c775109f",
   "metadata": {},
   "outputs": [
    {
     "name": "stderr",
     "output_type": "stream",
     "text": [
      "/home/vishnu/.local/lib/python3.10/site-packages/urllib3/connectionpool.py:1097: InsecureRequestWarning: Unverified HTTPS request is being made to host 'geoserver.core-stack.org'. Adding certificate verification is strongly advised. See: https://urllib3.readthedocs.io/en/latest/advanced-usage.html#tls-warnings\n",
      "  warnings.warn(\n",
      "/home/vishnu/.local/lib/python3.10/site-packages/urllib3/connectionpool.py:1097: InsecureRequestWarning: Unverified HTTPS request is being made to host 'raw.githubusercontent.com'. Adding certificate verification is strongly advised. See: https://urllib3.readthedocs.io/en/latest/advanced-usage.html#tls-warnings\n",
      "  warnings.warn(\n"
     ]
    },
    {
     "name": "stdout",
     "output_type": "stream",
     "text": [
      "Thumbnail generated and saved to: /home/vishnu/thumbnails/lulc_raster_thumbnail.png\n"
     ]
    }
   ],
   "source": [
    "def generate_raster_thumbnail(raster_data_stream, out_path, style_info):\n",
    "    with rasterio.open(raster_data_stream) as src:\n",
    "        arr = src.read(1)\n",
    "        nodata = src.nodata\n",
    "    \n",
    "    if nodata is not None:\n",
    "        arr = np.ma.masked_equal(arr, nodata)\n",
    "\n",
    "    values = [cls['value'] for cls in style_info if 'value' in cls]\n",
    "    colors = [cls['color'] for cls in style_info if 'color' in cls]\n",
    "    \n",
    "    value_to_color = {int(v): c for v, c in zip(values, colors)}\n",
    "    sorted_values = sorted(value_to_color.keys())\n",
    "    \n",
    "    cmap = ListedColormap([value_to_color.get(v, '#808080') for v in sorted_values])\n",
    "    norm = plt.Normalize(vmin=min(sorted_values), vmax=max(sorted_values))\n",
    "    \n",
    "    fig, ax = plt.subplots(1, 1, figsize=(3, 3), dpi=100)\n",
    "    ax.imshow(arr, cmap=cmap, norm=norm)\n",
    "    plt.axis('off')\n",
    "    \n",
    "    os.makedirs(os.path.dirname(out_path), exist_ok=True)\n",
    "    plt.savefig(out_path, bbox_inches='tight', pad_inches=0)\n",
    "    plt.close()\n",
    "\n",
    "\n",
    "GEOSERVER_WCS_URL = \"https://geoserver.core-stack.org:8443/geoserver/LULC_level_1/wcs\"\n",
    "coverage_id = \"LULC_level_1:LULC_23_24_badlapur_level_1\"\n",
    "\n",
    "\n",
    "qml_url = \"https://raw.githubusercontent.com/core-stack-org/QGIS-Styles/main/Land/LULC0_12class.qml\"\n",
    "thumbnail_output_path = \"/home/vishnu/thumbnails/lulc_raster_thumbnail.png\"\n",
    "\n",
    "\n",
    "params = {\n",
    "    \"service\": \"WCS\",\n",
    "    \"version\": \"2.0.1\",\n",
    "    \"request\": \"GetCoverage\",\n",
    "    \"CoverageId\": coverage_id,\n",
    "    \"format\": \"geotiff\"\n",
    "}\n",
    "\n",
    "response = requests.get(GEOSERVER_WCS_URL, params=params, verify=False)\n",
    "response.raise_for_status()\n",
    "raster_data = BytesIO(response.content)\n",
    "\n",
    "\n",
    "style_info = parse_qml_classes_from_url(qml_url)\n",
    "\n",
    "\n",
    "if style_info:\n",
    "    generate_raster_thumbnail(raster_data, thumbnail_output_path, style_info)\n",
    "    print(f\"Thumbnail generated and saved to: {thumbnail_output_path}\")\n",
    "else:\n",
    "    print(\"Could not generate thumbnail due to error parsing QML style information.\")\n"
   ]
  },
  {
   "cell_type": "markdown",
   "id": "b1e24960",
   "metadata": {},
   "source": [
    "### To fetch the data from geoserver for vector layer (admin boundary) and make in tabular format."
   ]
  },
  {
   "cell_type": "code",
   "execution_count": 5,
   "id": "e58e380b",
   "metadata": {},
   "outputs": [],
   "source": [
    "import geopandas as gpd\n",
    "import os\n",
    "import requests\n",
    "import pystac\n",
    "from datetime import datetime, timezone\n",
    "import pandas as pd\n",
    "from shapely.geometry import mapping, box\n",
    "from pystac.extensions.table import TableExtension\n",
    "vector_desc_df = pd.DataFrame(columns=['column_name', 'column_description'])"
   ]
  },
  {
   "cell_type": "code",
   "execution_count": 6,
   "id": "850fd9e3",
   "metadata": {},
   "outputs": [],
   "source": [
    "\n",
    "geojson_url = \"https://geoserver.core-stack.org:8443/geoserver/panchayat_boundaries/ows?service=WFS&version=1.0.0&request=GetFeature&typeName=panchayat_boundaries%3Ajaunpur_badlapur&maxFeatures=50&outputFormat=application%2Fjson\"\n"
   ]
  },
  {
   "cell_type": "code",
   "execution_count": 7,
   "id": "13b75d80",
   "metadata": {},
   "outputs": [],
   "source": [
    "response = requests.get(geojson_url)\n",
    "response.raise_for_status()"
   ]
  },
  {
   "cell_type": "code",
   "execution_count": 8,
   "id": "0d230ac3",
   "metadata": {},
   "outputs": [
    {
     "name": "stdout",
     "output_type": "stream",
     "text": [
      "                   id  ADI_2001  ADI_2011  ADI_2019  ASSET_2001  ASSET_2011  \\\n",
      "0  jaunpur_badlapur.1         0         0         0           0           0   \n",
      "1  jaunpur_badlapur.2         0         0         0           0           0   \n",
      "2  jaunpur_badlapur.3         0         0         0           0           0   \n",
      "3  jaunpur_badlapur.4         0         0         0           0           0   \n",
      "4  jaunpur_badlapur.5         0         0         0           0           0   \n",
      "\n",
      "   ASSET_2019 BF_2001  BF_2011  BF_2019  ...  TOT_P  block_cen  dist_cen  \\\n",
      "0           0       0        0        0  ...      0          0         0   \n",
      "1           0       0        0        0  ...      0          0         0   \n",
      "2           0       0        0        0  ...      0          0         0   \n",
      "3           0       0        0        0  ...      0          0         0   \n",
      "4           0       0        0        0  ...      0          0         0   \n",
      "\n",
      "   district          state  state_cen    tehsil  vill_ID    vill_name  \\\n",
      "0   JAUNPUR  UTTAR PRADESH          0  BADLAPUR        0            0   \n",
      "1   JAUNPUR  UTTAR PRADESH          0  BADLAPUR        0  MANIYAREPUR   \n",
      "2   JAUNPUR  UTTAR PRADESH          0  BADLAPUR        0      GAJAPUR   \n",
      "3   JAUNPUR  UTTAR PRADESH          0  BADLAPUR        0      BASUPUR   \n",
      "4   JAUNPUR  UTTAR PRADESH          0  BADLAPUR        0     KATEHARI   \n",
      "\n",
      "                                            geometry  \n",
      "0  MULTIPOLYGON (((82.50749 25.92285, 82.50818 25...  \n",
      "1  MULTIPOLYGON (((82.51544 25.95478, 82.51514 25...  \n",
      "2  MULTIPOLYGON (((82.5335 25.91724, 82.53354 25....  \n",
      "3  MULTIPOLYGON (((82.33392 25.86041, 82.3338 25....  \n",
      "4  MULTIPOLYGON (((82.5753 25.87248, 82.57526 25....  \n",
      "\n",
      "[5 rows x 41 columns]\n"
     ]
    }
   ],
   "source": [
    "gdf = gpd.read_file(response.text)\n",
    "print(gdf.head())\n"
   ]
  },
  {
   "cell_type": "code",
   "execution_count": 9,
   "id": "b916448c",
   "metadata": {},
   "outputs": [],
   "source": [
    "gdf_wgs84 = gdf.to_crs(epsg=4326) if gdf.crs is None or gdf.crs.to_epsg() != 4326 else gdf\n",
    "\n",
    "bounds = gdf_wgs84.total_bounds\n",
    "bbox = [float(b) for b in bounds]\n",
    "geom = mapping(gdf_wgs84.union_all())"
   ]
  },
  {
   "cell_type": "code",
   "execution_count": 10,
   "id": "298e783e",
   "metadata": {},
   "outputs": [],
   "source": [
    "item_id = os.path.splitext(os.path.basename(geojson_url))[0]\n",
    "item = pystac.Item(\n",
    "        id=item_id,\n",
    "        bbox=list(bbox),\n",
    "        geometry=geom,\n",
    "        datetime=datetime.now(timezone.utc),\n",
    "        properties={\n",
    "            \"title\": \"title\"\n",
    "        }\n",
    "    )"
   ]
  },
  {
   "cell_type": "code",
   "execution_count": 11,
   "id": "df0e2e3d",
   "metadata": {},
   "outputs": [],
   "source": [
    "vector_merged_df = gdf.dtypes.reset_index()\n",
    "vector_merged_df.columns = ['column_name', 'column_dtype']\n",
    "vector_merged_df = vector_merged_df.merge(vector_desc_df, on='column_name', how='left').fillna('')\n",
    "\n",
    "\n"
   ]
  },
  {
   "cell_type": "code",
   "execution_count": 12,
   "id": "912f8297",
   "metadata": {},
   "outputs": [],
   "source": [
    "column_data = [\n",
    "    {\n",
    "        \"name\": row['column_name'],\n",
    "        \"type\": str(row['column_dtype']),\n",
    "        \"description\": row['column_description']\n",
    "    }\n",
    "    for _, row in vector_merged_df.iterrows()\n",
    "]"
   ]
  },
  {
   "cell_type": "code",
   "execution_count": 13,
   "id": "76bca212",
   "metadata": {},
   "outputs": [],
   "source": [
    "table_ext = TableExtension.ext(item, add_if_missing=True)\n",
    "table_ext.columns = column_data\n"
   ]
  },
  {
   "cell_type": "code",
   "execution_count": 14,
   "id": "1f16bae0",
   "metadata": {},
   "outputs": [
    {
     "name": "stdout",
     "output_type": "stream",
     "text": [
      "Tabular data of the STAC Item's columns:\n",
      "          name      type description\n",
      "0           id    object            \n",
      "1     ADI_2001     int32            \n",
      "2     ADI_2011     int32            \n",
      "3     ADI_2019     int32            \n",
      "4   ASSET_2001     int32            \n",
      "5   ASSET_2011     int32            \n",
      "6   ASSET_2019     int32            \n",
      "7      BF_2001    object            \n",
      "8      BF_2011     int32            \n",
      "9      BF_2019     int32            \n",
      "10     FC_2001     int32            \n",
      "11     FC_2011     int32            \n",
      "12     FC_2019     int32            \n",
      "13       F_ILL     int32            \n",
      "14       F_LIT     int32            \n",
      "15        F_SC     int32            \n",
      "16        F_ST     int32            \n",
      "17    MSW_2001     int32            \n",
      "18    MSW_2011     int32            \n",
      "19    MSW_2019     int32            \n",
      "20       M_ILL     int32            \n",
      "21       M_LIT     int32            \n",
      "22        M_SC     int32            \n",
      "23        M_ST     int32            \n",
      "24       No_HH     int32            \n",
      "25       P_ILL     int32            \n",
      "26       P_LIT     int32            \n",
      "27        P_SC     int32            \n",
      "28        P_ST     int32            \n",
      "29       TOT_F     int32            \n",
      "30       TOT_M     int32            \n",
      "31       TOT_P     int32            \n",
      "32   block_cen     int32            \n",
      "33    dist_cen     int32            \n",
      "34    district    object            \n",
      "35       state    object            \n",
      "36   state_cen     int32            \n",
      "37      tehsil    object            \n",
      "38     vill_ID     int32            \n",
      "39   vill_name    object            \n",
      "40    geometry  geometry            \n"
     ]
    }
   ],
   "source": [
    "print(\"Tabular data of the STAC Item's columns:\")\n",
    "tabular_output = pd.DataFrame(column_data)\n",
    "print(tabular_output)"
   ]
  }
 ],
 "metadata": {
  "kernelspec": {
   "display_name": "Python 3",
   "language": "python",
   "name": "python3"
  },
  "language_info": {
   "codemirror_mode": {
    "name": "ipython",
    "version": 3
   },
   "file_extension": ".py",
   "mimetype": "text/x-python",
   "name": "python",
   "nbconvert_exporter": "python",
   "pygments_lexer": "ipython3",
   "version": "3.10.12"
  }
 },
 "nbformat": 4,
 "nbformat_minor": 5
}
