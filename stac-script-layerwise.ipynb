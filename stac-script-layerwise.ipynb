{
 "cells": [
  {
   "cell_type": "code",
   "execution_count": 23,
   "id": "d98d4c58",
   "metadata": {},
   "outputs": [],
   "source": [
    "import requests\n",
    "from io import BytesIO\n",
    "import rasterio\n",
    "import xml.etree.ElementTree as ET"
   ]
  },
  {
   "cell_type": "code",
   "execution_count": 25,
   "id": "0521f961",
   "metadata": {},
   "outputs": [],
   "source": [
    "\n",
    "\n",
    "state = \"uttar_pradesh\"\n",
    "district = \"jaunpur\"\n",
    "block = \"badlapur\"\n",
    "\n",
    "GEOSERVER_WCS_URL = \"https://geoserver.core-stack.org:8443/geoserver/LULC_level_1/wcs\"\n",
    "coverage_id = \"LULC_level_1:LULC_23_24_badlapur_level_1\"\n",
    "\n",
    "bbox = \"82.2,25.45,82.35,25.60\"\n"
   ]
  },
  {
   "cell_type": "code",
   "execution_count": 26,
   "id": "4392e588",
   "metadata": {},
   "outputs": [
    {
     "name": "stderr",
     "output_type": "stream",
     "text": [
      "/home/vishnu/.local/lib/python3.10/site-packages/urllib3/connectionpool.py:1097: InsecureRequestWarning: Unverified HTTPS request is being made to host 'geoserver.core-stack.org'. Adding certificate verification is strongly advised. See: https://urllib3.readthedocs.io/en/latest/advanced-usage.html#tls-warnings\n",
      "  warnings.warn(\n"
     ]
    },
    {
     "name": "stdout",
     "output_type": "stream",
     "text": [
      "Ground Sample Distance (GSD):\n",
      "Pixel Width (x): 8.983152841195215e-05\n",
      "Pixel Height (y): 8.983152841195215e-05\n",
      "Image Dimensions:\n",
      "  Width: 3150 pixels\n",
      "  Height: 5442 pixels\n",
      "  CRS: EPSG:4326\n"
     ]
    }
   ],
   "source": [
    "params = {\n",
    "    \"service\": \"WCS\",\n",
    "    \"version\": \"2.0.1\",\n",
    "    \"request\": \"GetCoverage\",\n",
    "    \"CoverageId\": coverage_id,\n",
    "    \"bbox\": bbox,\n",
    "    \"format\": \"geotiff\"\n",
    "}\n",
    "\n",
    "try:\n",
    "\n",
    "    response = requests.get(GEOSERVER_WCS_URL, params=params, verify=False)\n",
    "    response.raise_for_status()\n",
    "\n",
    "    raster_data = BytesIO(response.content)\n",
    "\n",
    "    with rasterio.open(raster_data) as src:\n",
    "        gsd_x, gsd_y = src.res\n",
    "        print(f\"Ground Sample Distance (GSD):\")\n",
    "        print(f\"Pixel Width (x): {gsd_x}\")\n",
    "        print(f\"Pixel Height (y): {gsd_y}\")\n",
    "        \n",
    "        width, height = src.shape\n",
    "        print(f\"Image Dimensions:\")\n",
    "        print(f\"  Width: {width} pixels\")\n",
    "        print(f\"  Height: {height} pixels\")\n",
    "\n",
    "        if src.crs:\n",
    "            epsg_code = src.crs.to_string()\n",
    "            print(f\"  CRS: {epsg_code}\")\n",
    "        else:\n",
    "            print(\"EPSG Code: Not found or not valid.\")\n",
    "            \n",
    "except requests.exceptions.RequestException as e:\n",
    "    print(f\"An error occurred while fetching data from GeoServer: {e}\")"
   ]
  },
  {
   "cell_type": "code",
   "execution_count": null,
   "id": "e58e380b",
   "metadata": {},
   "outputs": [],
   "source": []
  },
  {
   "cell_type": "markdown",
   "id": "b4a555be",
   "metadata": {},
   "source": [
    "### Above part was with bbox hardcorded , now will try to get bounding box from geoserver metadata and use that for getting the GSD, image dimensin etc"
   ]
  },
  {
   "cell_type": "code",
   "execution_count": null,
   "id": "d5052103",
   "metadata": {},
   "outputs": [
    {
     "name": "stdout",
     "output_type": "stream",
     "text": [
      "An error occurred: 'No content named LULC_23_24_badlapur_level_1'\n"
     ]
    }
   ],
   "source": [
    "from owslib.wcs import WebCoverageService\n",
    "\n",
    "\n",
    "wcs_url = \"https://geoserver.core-stack.org:8443/geoserver/LULC_level_1/wcs\"\n",
    "coverage_id = \"LULC_23_24_badlapur_level_1\"\n",
    "\n",
    "try:\n",
    "    \n",
    "    wcs = WebCoverageService(wcs_url, version='2.0.1')\n",
    "\n",
    "    \n",
    "    coverage = wcs[coverage_id]\n",
    "\n",
    "    bbox = coverage.boundingBox\n",
    "    print(f\"Bounding box: {bbox}\")\n",
    "\n",
    "    grid = coverage.grid\n",
    "    width = grid['width']\n",
    "    height = grid['height']\n",
    "    print(f\"Raster dimensions (Width x Height): {width} x {height}\")\n",
    "\n",
    "    gsd_x = (bbox[2] - bbox[0]) / width\n",
    "    gsd_y = (bbox[3] - bbox[1]) / height\n",
    "    print(f\"Ground Sample Distance (GSD): {gsd_x:.5f} units/pixel (X), {gsd_y:.5f} units/pixel (Y)\")\n",
    "\n",
    "except Exception as e:\n",
    "    print(f\"An error occurred: {e}\")"
   ]
  },
  {
   "cell_type": "code",
   "execution_count": null,
   "id": "850fd9e3",
   "metadata": {},
   "outputs": [],
   "source": []
  }
 ],
 "metadata": {
  "kernelspec": {
   "display_name": "Python 3",
   "language": "python",
   "name": "python3"
  },
  "language_info": {
   "codemirror_mode": {
    "name": "ipython",
    "version": 3
   },
   "file_extension": ".py",
   "mimetype": "text/x-python",
   "name": "python",
   "nbconvert_exporter": "python",
   "pygments_lexer": "ipython3",
   "version": "3.10.12"
  }
 },
 "nbformat": 4,
 "nbformat_minor": 5
}
