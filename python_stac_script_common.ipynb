{
 "cells": [
  {
   "cell_type": "code",
   "execution_count": 1,
   "id": "1534664c",
   "metadata": {},
   "outputs": [
    {
     "name": "stderr",
     "output_type": "stream",
     "text": [
      "/home/vishnu/.local/lib/python3.10/site-packages/matplotlib/projections/__init__.py:63: UserWarning: Unable to import Axes3D. This may be due to multiple versions of Matplotlib being installed (e.g. as a system package and as a pip package). As a result, the 3D projection is not available.\n",
      "  warnings.warn(\"Unable to import Axes3D. This may be due to multiple versions of \"\n"
     ]
    }
   ],
   "source": [
    "import os\n",
    "import json\n",
    "import xml.etree.ElementTree as ET\n",
    "from datetime import datetime\n",
    "\n",
    "import rasterio\n",
    "import geopandas as gpd\n",
    "import matplotlib.pyplot as plt\n",
    "import pystac\n",
    "import sys\n",
    "from shapely.geometry import mapping, box\n",
    "from constants import DEFAULT_START_DATE, DEFAULT_END_DATE,raster_lulc_id,raster_lulc_description,raster_lulc_title,swb_vector_id,swb_vector_title,swb_vector_description,id_main,title_main,description_main,base_url,data_url\n",
    "\n",
    "\n"
   ]
  },
  {
   "cell_type": "code",
   "execution_count": 2,
   "id": "17611223",
   "metadata": {},
   "outputs": [],
   "source": [
    "\n",
    "base_dir=\"data/\"\n",
    "qml_path=\"data/style_file.qml\"\n",
    "vector_qml_file = \"data/swb_style.qml\"\n",
    "\n",
    "raster_filename=\"saraikela-kharsawan_gobindpur_2023-07-01_2024-06-30_LULCmap_10m.tif\"\n",
    "vector_filename=\"swb2_saraikela-kharsawan_gobindpur.geojson\"\n",
    "\n",
    "corestack_dir = os.path.join(base_dir, \"Corestack Catalogs\")\n",
    "gobindpur_dir = os.path.join(corestack_dir, \"gobindpur\")\n",
    "raster_dir = os.path.join(gobindpur_dir, \"raster\")\n",
    "vector_dir = os.path.join(gobindpur_dir, \"vector\")\n",
    "\n",
    "os.makedirs(raster_dir, exist_ok=True)\n",
    "os.makedirs(vector_dir, exist_ok=True)\n",
    "\n",
    "\n",
    "raster_filename = raster_filename\n",
    "vector_filename = vector_filename\n",
    "raster_path = os.path.join(base_dir, raster_filename)\n",
    "vector_path = os.path.join(base_dir, vector_filename)\n",
    "\n",
    "raster_thumb = os.path.join(raster_dir, \"thumbnail.png\")\n",
    "vector_thumb = os.path.join(vector_dir, \"thumbnail.png\")\n",
    "\n",
    "raster_style_file = os.path.join(base_dir, \"style_file.qml\")\n",
    "vector_style_file = os.path.join(base_dir, \"swb_style.qml\")\n"
   ]
  },
  {
   "cell_type": "code",
   "execution_count": 3,
   "id": "46c1ab06",
   "metadata": {},
   "outputs": [],
   "source": [
    "def extract_raster_dates_from_filename(filename):\n",
    "    try:\n",
    "        print(filename)\n",
    "        parts = filename.split('_')\n",
    "        start_date = datetime.strptime(parts[2], \"%Y-%m-%d\")\n",
    "        end_date = datetime.strptime(parts[3], \"%Y-%m-%d\")\n",
    "        print(start_date)\n",
    "        print(end_date)\n",
    "    except Exception as e:\n",
    "        raise ValueError(f\"Failed to extract raster dates from filename '{filename}': {e}\")\n",
    "        \n",
    "    return start_date, end_date    "
   ]
  },
  {
   "cell_type": "code",
   "execution_count": 4,
   "id": "e14e0c77",
   "metadata": {},
   "outputs": [
    {
     "name": "stdout",
     "output_type": "stream",
     "text": [
      "saraikela-kharsawan_gobindpur_2023-07-01_2024-06-30_LULCmap_10m.tif\n",
      "2023-07-01 00:00:00\n",
      "2024-06-30 00:00:00\n"
     ]
    },
    {
     "data": {
      "text/plain": [
       "(datetime.datetime(2023, 7, 1, 0, 0), datetime.datetime(2024, 6, 30, 0, 0))"
      ]
     },
     "execution_count": 4,
     "metadata": {},
     "output_type": "execute_result"
    }
   ],
   "source": [
    "extract_raster_dates_from_filename(raster_filename)"
   ]
  },
  {
   "cell_type": "code",
   "execution_count": 5,
   "id": "2f14d874",
   "metadata": {},
   "outputs": [],
   "source": [
    "\n",
    "\n",
    "def parse_qml_classes(qml_path):\n",
    "    tree = ET.parse(qml_path)\n",
    "    root = tree.getroot()\n",
    "    classes = []\n",
    "\n",
    "    for entry in root.findall(\".//paletteEntry\"):\n",
    "        class_info = {}\n",
    "        for attr_key, attr_value in entry.attrib.items():\n",
    "            if attr_key == \"value\":\n",
    "                try:\n",
    "                    class_info[attr_key] = int(attr_value)\n",
    "                except ValueError:\n",
    "                    class_info[attr_key] = attr_value\n",
    "            else:\n",
    "                class_info[attr_key] = attr_value\n",
    "        classes.append(class_info)\n",
    "    return classes"
   ]
  },
  {
   "cell_type": "code",
   "execution_count": 6,
   "id": "139cf36c",
   "metadata": {},
   "outputs": [
    {
     "name": "stdout",
     "output_type": "stream",
     "text": [
      "Extracted Style Properties:\n",
      "\n",
      "align_dash_pattern: 0\n",
      "capstyle: square\n",
      "customdash: 5;2\n",
      "customdash_map_unit_scale: 3x:0,0,0,0,0,0\n",
      "customdash_unit: MM\n",
      "dash_pattern_offset: 0\n",
      "dash_pattern_offset_map_unit_scale: 3x:0,0,0,0,0,0\n",
      "dash_pattern_offset_unit: MM\n",
      "draw_inside_polygon: 0\n",
      "joinstyle: bevel\n",
      "line_color: 225,89,137,255,rgb:0.88235294117647056,0.34901960784313724,0.53725490196078429,1\n",
      "line_style: solid\n",
      "line_width: 0.6\n",
      "line_width_unit: MM\n",
      "offset: 0\n",
      "offset_map_unit_scale: 3x:0,0,0,0,0,0\n",
      "offset_unit: MM\n",
      "ring_filter: 0\n",
      "trim_distance_end: 0\n",
      "trim_distance_end_map_unit_scale: 3x:0,0,0,0,0,0\n",
      "trim_distance_end_unit: MM\n",
      "trim_distance_start: 0\n",
      "trim_distance_start_map_unit_scale: 3x:0,0,0,0,0,0\n",
      "trim_distance_start_unit: MM\n",
      "tweak_dash_pattern_on_corners: 0\n",
      "use_custom_dash: 0\n",
      "width_map_unit_scale: 3x:0,0,0,0,0,0\n",
      "type: collection\n",
      "line_color_hex: #E15989\n"
     ]
    }
   ],
   "source": [
    "\n",
    "\n",
    "def rgba_string_to_hex(rgba_string):\n",
    "    \n",
    "    try:\n",
    "        parts = rgba_string.split(',')\n",
    "        if len(parts) >= 3:\n",
    "            r, g, b = int(parts[0]), int(parts[1]), int(parts[2])\n",
    "            return \"#{:02X}{:02X}{:02X}\".format(r, g, b)\n",
    "    except:\n",
    "        pass\n",
    "    return None\n",
    "\n",
    "def parse_simpleline_style(qml_path):\n",
    "    tree = ET.parse(qml_path)\n",
    "    root = tree.getroot()\n",
    "\n",
    "    # Find the <layer> tag with class=\"SimpleLine\"\n",
    "    simple_line_layer = None\n",
    "    for layer in root.findall(\".//layer\"):\n",
    "        if layer.attrib.get(\"class\") == \"SimpleLine\":\n",
    "            simple_line_layer = layer\n",
    "            break\n",
    "\n",
    "    if simple_line_layer is None:\n",
    "        print(\"No <layer class='SimpleLine'> found.\")\n",
    "        return {}\n",
    "\n",
    "    style_data = {}\n",
    "    for option in simple_line_layer.findall(\".//Option\"):\n",
    "        name = option.attrib.get(\"name\")\n",
    "        value = option.attrib.get(\"value\")\n",
    "        if name and value:\n",
    "            style_data[name] = value\n",
    "\n",
    "    # Convert color if available\n",
    "    if \"line_color\" in style_data:\n",
    "        style_data[\"line_color_hex\"] = rgba_string_to_hex(style_data[\"line_color\"])\n",
    "\n",
    "    return style_data\n",
    "\n",
    " \n",
    "style = parse_simpleline_style(vector_qml_file)\n",
    "\n",
    "if not style:\n",
    "    print(\"No style properties found.\")\n",
    "else:\n",
    "    print(\"Extracted Style Properties:\\n\")\n",
    "    for key, value in style.items():\n",
    "        print(f\"{key}: {value}\")\n"
   ]
  },
  {
   "cell_type": "code",
   "execution_count": 7,
   "id": "fe3b8600",
   "metadata": {},
   "outputs": [],
   "source": [
    "def generate_raster_thumbnail(tif_path, out_path):\n",
    "    with rasterio.open(tif_path) as src:\n",
    "        arr = src.read(1)\n",
    "    plt.figure(figsize=(3, 3))\n",
    "    plt.imshow(arr, cmap=\"tab20\")\n",
    "    plt.axis('off')\n",
    "    plt.savefig(out_path, bbox_inches='tight', pad_inches=0)\n",
    "    plt.close()\n",
    "\n",
    "def generate_vector_thumbnail(vector_path, out_path):\n",
    "    gdf = gpd.read_file(vector_path)\n",
    "    if gdf.crs is None or gdf.crs.to_epsg() != 4326:\n",
    "        gdf = gdf.to_crs(epsg=4326)\n",
    "    fig, ax = plt.subplots(figsize=(3, 3))\n",
    "    fig.patch.set_facecolor(\"white\")\n",
    "    ax.set_facecolor(\"white\")\n",
    "    gdf.plot(ax=ax, color=\"lightblue\", edgecolor=\"blue\", linewidth=0.5)\n",
    "    ax.axis('off')\n",
    "    plt.savefig(out_path, dpi=150, bbox_inches='tight', pad_inches=0, facecolor=fig.get_facecolor())\n",
    "    plt.close()\n"
   ]
  },
  {
   "cell_type": "code",
   "execution_count": 8,
   "id": "6fd98c2e",
   "metadata": {},
   "outputs": [],
   "source": [
    "def generate_legend_image(legend_data, output_path):\n",
    "    import matplotlib.pyplot as plt\n",
    "    import matplotlib.patches as mpatches\n",
    "\n",
    "    labels = [entry.get(\"label\", str(entry[\"value\"])) for entry in legend_data]\n",
    "    colors = [entry[\"color\"] for entry in legend_data]\n",
    "\n",
    "    fig_height = max(1, len(labels) * 0.4)\n",
    "    fig, ax = plt.subplots(figsize=(3, fig_height))\n",
    "    ax.axis(\"off\")\n",
    "\n",
    "    handles = [mpatches.Patch(color=color, label=label) for color, label in zip(colors, labels)]\n",
    "    ax.legend(handles=handles, loc=\"center left\", frameon=False)\n",
    "\n",
    "    plt.savefig(output_path, bbox_inches='tight', pad_inches=0)\n",
    "    plt.close()\n"
   ]
  },
  {
   "cell_type": "code",
   "execution_count": 9,
   "id": "001b3d07",
   "metadata": {},
   "outputs": [],
   "source": [
    "def create_raster_item():\n",
    "    try:\n",
    "        start_date, end_date = extract_raster_dates_from_filename(raster_filename)\n",
    "    except ValueError as e:\n",
    "        raise RuntimeError(f\"Raster item creation failed\")\n",
    "    \n",
    "    with rasterio.open(raster_path) as src:\n",
    "        bounds = src.bounds\n",
    "        geom = mapping(box(*bounds))\n",
    "        bbox = [bounds.left, bounds.bottom, bounds.right, bounds.top]\n",
    "\n",
    "    generate_raster_thumbnail(raster_path, raster_thumb)\n",
    "    style_info = parse_qml_classes(raster_style_file)\n",
    "\n",
    "   \n",
    "    style_json_path = os.path.join(raster_dir, \"legend.json\")\n",
    "    with open(style_json_path, \"w\") as f:\n",
    "        json.dump(style_info, f, indent=2)\n",
    "\n",
    "    \n",
    "    legend_img_path = os.path.join(raster_dir, \"legend.png\")\n",
    "    generate_legend_image(style_info, legend_img_path)\n",
    "\n",
    "    \n",
    "\n",
    "    item = pystac.Item(\n",
    "        id=raster_lulc_id,\n",
    "        geometry=geom,\n",
    "        bbox=bbox,\n",
    "        datetime=start_date,\n",
    "        start_datetime= start_date,\n",
    "        end_datetime= end_date,\n",
    "        properties={\n",
    "            \"title\":\"raster_lulc_title\",\n",
    "            \"description\": \"raster_lulc_description\",\n",
    "            \"lulc:classes\": \"style_info\",\n",
    "            \n",
    "        }\n",
    "    )\n",
    "    \n",
    "\n",
    "    item.add_asset(\"data\", pystac.Asset(\n",
    "        href=f\"{data_url}/{raster_filename}\",\n",
    "        media_type=pystac.MediaType.GEOTIFF,\n",
    "        roles=[\"data\"],\n",
    "        title=\"Raster Layer\"\n",
    "    ))\n",
    "    item.add_asset(\"thumbnail\", pystac.Asset(\n",
    "        href=f\"{base_url}/raster/thumbnail.png\",\n",
    "        media_type=pystac.MediaType.PNG,\n",
    "        roles=[\"thumbnail\"],\n",
    "        title=\"Raster Thumbnail\"\n",
    "    ))\n",
    "    item.add_asset(\"legend_image\", pystac.Asset(\n",
    "        href=f\"{base_url}/raster/legend.png\",\n",
    "        media_type=pystac.MediaType.PNG,\n",
    "        roles=[\"thumbnail\", \"metadata\"],\n",
    "        title=\"Legend Image\"\n",
    "    ))\n",
    "    item.add_asset(\"legend\", pystac.Asset(\n",
    "        href=f\"{base_url}/raster/legend.json\",\n",
    "        media_type=pystac.MediaType.JSON,\n",
    "        roles=[\"metadata\"],\n",
    "        title=\"Legend JSON\"\n",
    "    ))\n",
    "\n",
    "\n",
    "    item.set_self_href(os.path.join(raster_dir, \"item.json\"))\n",
    "    item.save_object()\n",
    "    return item\n"
   ]
  },
  {
   "cell_type": "code",
   "execution_count": 10,
   "id": "43411421",
   "metadata": {},
   "outputs": [
    {
     "name": "stdout",
     "output_type": "stream",
     "text": [
      "https://raw.githubusercontent.com/vishnus4059/STAC_common/master/data/Corestack%20Catalogs/gobindpur\n"
     ]
    }
   ],
   "source": [
    "print(base_url)"
   ]
  },
  {
   "cell_type": "code",
   "execution_count": 11,
   "id": "16c2b88c",
   "metadata": {},
   "outputs": [
    {
     "name": "stdout",
     "output_type": "stream",
     "text": [
      "saraikela-kharsawan_gobindpur_2023-07-01_2024-06-30_LULCmap_10m.tif\n",
      "2023-07-01 00:00:00\n",
      "2024-06-30 00:00:00\n"
     ]
    }
   ],
   "source": [
    "raster_item=create_raster_item()"
   ]
  },
  {
   "cell_type": "code",
   "execution_count": 12,
   "id": "10fa2634",
   "metadata": {},
   "outputs": [],
   "source": [
    "def create_vector_item():\n",
    "    start_date = DEFAULT_START_DATE\n",
    "    end_date = DEFAULT_END_DATE\n",
    "\n",
    "    gdf = gpd.read_file(vector_path)\n",
    "    geom = mapping(gdf.union_all())\n",
    "    bounds = gdf.total_bounds\n",
    "    bbox = [float(b) for b in bounds]\n",
    "\n",
    "    generate_vector_thumbnail(vector_path, vector_thumb)\n",
    "    style_info_vector = parse_simpleline_style(vector_style_file)\n",
    "    style_json_path = os.path.join(vector_dir, \"style.json\")\n",
    "    with open(style_json_path, \"w\") as f:\n",
    "        json.dump(style_info_vector, f, indent=2)\n",
    "    \n",
    "    \n",
    "\n",
    "    item = pystac.Item(\n",
    "        id=swb_vector_id,\n",
    "        geometry=geom,\n",
    "        bbox=bbox,\n",
    "        datetime=start_date,\n",
    "        start_datetime= start_date,\n",
    "        end_datetime= end_date,\n",
    "        properties={\n",
    "            \"title\": \"swb_vector_title\",\n",
    "            \"description\": \"swb_vector_description\",\n",
    "            \"style\": \"style_info_vector\",\n",
    "            \n",
    "        }\n",
    "    )\n",
    "\n",
    "\n",
    "    \n",
    "\n",
    "    item.add_asset(\"data\", pystac.Asset(\n",
    "        href=f\"{data_url}/{vector_filename}\",\n",
    "        media_type=pystac.MediaType.GEOJSON,\n",
    "        roles=[\"data\"],\n",
    "        title=\"Vector Layer\"\n",
    "    ))\n",
    "    item.add_asset(\"thumbnail\", pystac.Asset(\n",
    "        href=f\"{base_url}/vector/thumbnail.png\",\n",
    "        media_type=pystac.MediaType.PNG,\n",
    "        roles=[\"thumbnail\"],\n",
    "        title=\"Vector Thumbnail\"\n",
    "    ))\n",
    "    item.add_asset(\"style\", pystac.Asset(\n",
    "        href=f\"{base_url}/vector/swb_style_thumbnail.json\",\n",
    "        media_type=pystac.MediaType.PNG,\n",
    "        roles=[\"style\"],\n",
    "        title=\"Vector style thumbnail\"\n",
    "    ))\n",
    "    item.set_self_href(os.path.join(vector_dir, \"item.json\"))\n",
    "    item.save_object()\n",
    "    return item\n"
   ]
  },
  {
   "cell_type": "code",
   "execution_count": 13,
   "id": "abd0614c",
   "metadata": {},
   "outputs": [],
   "source": [
    "\n",
    "vector_item = create_vector_item()\n"
   ]
  },
  {
   "cell_type": "code",
   "execution_count": 14,
   "id": "c41550e9",
   "metadata": {},
   "outputs": [
    {
     "name": "stdout",
     "output_type": "stream",
     "text": [
      "saraikela-kharsawan_gobindpur_2023-07-01_2024-06-30_LULCmap_10m.tif\n",
      "2023-07-01 00:00:00\n",
      "2024-06-30 00:00:00\n",
      " Root STAC Catalog created at: data/Corestack Catalogs/catalog.json\n"
     ]
    }
   ],
   "source": [
    "\n",
    "gobindpur_catalog = pystac.Catalog(\n",
    "    id=id_main,\n",
    "    title=title_main,\n",
    "    description=description_main\n",
    ")\n",
    "gobindpur_catalog.add_item(create_raster_item())\n",
    "gobindpur_catalog.add_item(create_vector_item())\n",
    "gobindpur_catalog.set_self_href(os.path.join(gobindpur_dir, \"catalog.json\"))\n",
    "\n",
    "corestack_catalog = pystac.Catalog(\n",
    "    id=\"corestack\",\n",
    "    title=\"CorestackCatalogs\",\n",
    "    description=\"Root catalog containing all subcatalogs\"\n",
    ")\n",
    "corestack_catalog.add_child(gobindpur_catalog)\n",
    "corestack_catalog.set_self_href(os.path.join(corestack_dir, \"catalog.json\"))\n",
    "corestack_catalog.normalize_and_save(corestack_dir, catalog_type=pystac.CatalogType.SELF_CONTAINED)\n",
    "\n",
    "print(f\" Root STAC Catalog created at: {os.path.join(corestack_dir, 'catalog.json')}\")\n"
   ]
  }
 ],
 "metadata": {
  "kernelspec": {
   "display_name": "Python 3",
   "language": "python",
   "name": "python3"
  },
  "language_info": {
   "codemirror_mode": {
    "name": "ipython",
    "version": 3
   },
   "file_extension": ".py",
   "mimetype": "text/x-python",
   "name": "python",
   "nbconvert_exporter": "python",
   "pygments_lexer": "ipython3",
   "version": "3.10.12"
  }
 },
 "nbformat": 4,
 "nbformat_minor": 5
}
