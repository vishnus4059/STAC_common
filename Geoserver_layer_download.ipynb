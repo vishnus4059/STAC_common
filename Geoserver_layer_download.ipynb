{
 "cells": [
  {
   "cell_type": "code",
   "execution_count": null,
   "id": "2e2e7a6b",
   "metadata": {},
   "outputs": [],
   "source": [
    "import geopandas as gpd\n",
    "import requests\n",
    "import os\n",
    "from io import BytesIO"
   ]
  },
  {
   "cell_type": "code",
   "execution_count": null,
   "id": "eaab3cb5",
   "metadata": {},
   "outputs": [],
   "source": [
    "\n",
    "\n",
    "GEOSERVER_URL = \"https://geoserver.core-stack.org:8443/geoserver\"\n",
    "\n",
    "\n",
    "workspace = \"swb\"\n",
    "layer_name = \"surface_waterbodies_mirzapur_mirzapur\"\n",
    "\n",
    "\n",
    "output_folder = \"data/test\"\n",
    "os.makedirs(output_folder, exist_ok=True)\n"
   ]
  },
  {
   "cell_type": "code",
   "execution_count": null,
   "id": "89c6af0a",
   "metadata": {},
   "outputs": [
    {
     "name": "stdout",
     "output_type": "stream",
     "text": [
      "GeoJSON URL: https://geoserver.core-stack.org:8443/geoserver/swb/ows?service=WFS&version=1.0.0&request=GetFeature&typeName=swb:surface_waterbodies_mirzapur_mirzapur&outputFormat=application/json\n",
      "Layer 'surface_waterbodies_mirzapur_mirzapur' downloaded and saved to swb_surface_waterbodies_mirzapur_mirzapur.geojson\n",
      "Number of features: 3699\n"
     ]
    }
   ],
   "source": [
    "def get_vector_url(workspace, layer_name):\n",
    "    geojson_url = (\n",
    "        f\"{GEOSERVER_URL}/{workspace}/ows?\"\n",
    "        f\"service=WFS&version=1.0.0&request=GetFeature&\"\n",
    "        f\"typeName={workspace}:{layer_name}&outputFormat=application/json\"\n",
    "    )\n",
    "    return geojson_url\n",
    "\n",
    "\n",
    "geojson_url = get_vector_url(workspace, layer_name)\n",
    "print(\"GeoJSON URL:\", geojson_url)\n",
    "\n",
    "\n",
    "try:\n",
    "    response = requests.get(geojson_url, timeout=30)\n",
    "    response.raise_for_status() \n",
    "\n",
    "   \n",
    "    gdf = gpd.read_file(BytesIO(response.content))\n",
    "\n",
    "    \n",
    "    output_filename = f\"{workspace}_{layer_name}.geojson\"\n",
    "    output_path = os.path.join(output_folder, output_filename)\n",
    "    gdf.to_file(output_path, driver=\"GeoJSON\")\n",
    "\n",
    "    print(f\"Layer '{layer_name}' downloaded and saved to {output_filename}\")\n",
    "    print(f\"Number of features: {len(gdf)}\")\n",
    "\n",
    "except requests.exceptions.RequestException as e:\n",
    "    print(f\"Error fetching data from GeoServer: {e}\")\n",
    "except Exception as e:\n",
    "    print(f\"An unexpected error occurred: {e}\")"
   ]
  }
 ],
 "metadata": {
  "kernelspec": {
   "display_name": "Python 3",
   "language": "python",
   "name": "python3"
  },
  "language_info": {
   "codemirror_mode": {
    "name": "ipython",
    "version": 3
   },
   "file_extension": ".py",
   "mimetype": "text/x-python",
   "name": "python",
   "nbconvert_exporter": "python",
   "pygments_lexer": "ipython3",
   "version": "3.10.12"
  }
 },
 "nbformat": 4,
 "nbformat_minor": 5
}
